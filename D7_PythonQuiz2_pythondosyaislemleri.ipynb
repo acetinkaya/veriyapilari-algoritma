{
  "nbformat": 4,
  "nbformat_minor": 0,
  "metadata": {
    "colab": {
      "provenance": []
    },
    "kernelspec": {
      "name": "python3",
      "display_name": "Python 3"
    },
    "language_info": {
      "name": "python"
    }
  },
  "cells": [
    {
      "cell_type": "code",
      "execution_count": 1,
      "metadata": {
        "id": "fGqhRbRZV9YA",
        "colab": {
          "base_uri": "https://localhost:8080/"
        },
        "outputId": "38b81f6a-9a34-4e45-fddb-c583c513e5fb"
      },
      "outputs": [
        {
          "output_type": "stream",
          "name": "stdout",
          "text": [
            "Merhaba, İGÜ - Veri Yapıları & Algoritma / Ders 7\n"
          ]
        }
      ],
      "source": [
        "print(\"Merhaba, İGÜ - Veri Yapıları & Algoritma / Ders 7\") # print ekrana çıktı veren bir koddur."
      ]
    },
    {
      "cell_type": "code",
      "source": [
        "import sys # import python programlama dilinde yazılıma kütüphane eklemeye yarayan bir kod blogudur.\n",
        "print(sys.version)"
      ],
      "metadata": {
        "id": "KrTxUTXzWIto",
        "colab": {
          "base_uri": "https://localhost:8080/"
        },
        "outputId": "51ce1844-65cf-4ce8-d931-a020821adf60"
      },
      "execution_count": 2,
      "outputs": [
        {
          "output_type": "stream",
          "name": "stdout",
          "text": [
            "3.10.12 (main, Sep 11 2024, 15:47:36) [GCC 11.4.0]\n"
          ]
        }
      ]
    },
    {
      "cell_type": "code",
      "source": [
        "from google.colab import drive # google colab - drive bağlantısı\n",
        "\n",
        "drive.mount('/content/drive')"
      ],
      "metadata": {
        "id": "K6f_r_CMWJ_k",
        "colab": {
          "base_uri": "https://localhost:8080/"
        },
        "outputId": "5cb20e64-aa0c-4550-b4da-e11878c4147b"
      },
      "execution_count": 3,
      "outputs": [
        {
          "output_type": "stream",
          "name": "stdout",
          "text": [
            "Mounted at /content/drive\n"
          ]
        }
      ]
    },
    {
      "cell_type": "code",
      "source": [
        "import os\n",
        "\n",
        "os.chdir('/content/drive/My Drive/VERIYAPILARI_PYTHON')\n",
        "\n",
        "!pwd # bize kodun çıktısını dosya yolu olarak veren kod blogudur."
      ],
      "metadata": {
        "id": "AGMniEszWK1M",
        "colab": {
          "base_uri": "https://localhost:8080/"
        },
        "outputId": "7436e1ea-0fe7-4fae-b0a0-73cf675686ff"
      },
      "execution_count": 4,
      "outputs": [
        {
          "output_type": "stream",
          "name": "stdout",
          "text": [
            "/content/drive/My Drive/VERIYAPILARI_PYTHON\n"
          ]
        }
      ]
    },
    {
      "cell_type": "markdown",
      "source": [
        "# QUIZ 2\n",
        "\n",
        "S-1) Aşağıda bir isim listesi verilmiştir. Bu liste içindeki en uzun ismi ve bu ismin listenin içindeki indeksini bulan iki ayrı Python fonksiyonu yazın."
      ],
      "metadata": {
        "id": "itBAnxYhWQ2O"
      }
    },
    {
      "cell_type": "code",
      "source": [
        "isim_listesi = [\"Ali\", \"Şerafettin\", \"Osman\", \"İclal\", \"Ayşe\"]\n",
        "\n",
        "# Fonksiyon 1: En uzun ismi bulan fonksiyon\n",
        "def en_uzun_ismi_bul(isim_listesi): # Burada en uzun ismi bulacak kodu yazın\n",
        "    ....\n",
        "    ....\n",
        "\n",
        "# Fonksiyon 2: En uzun ismin indeksini (adresini) bulan fonksiyon\n",
        "def en_uzun_isim_indeksi_bul(isim_listesi): # Burada en uzun ismin indeksini bulacak kodu yazın\n",
        "    ....\n",
        "    ....\n",
        "\n",
        "en_uzun_isim = en_uzun_ismi_bul(isim_listesi)\n",
        "en_uzun_indeks = en_uzun_isim_indeksi_bul(isim_listesi)\n",
        "\n",
        "print(\"En uzun isim: \", en_uzun_isim)           # Beklenen çıktı: 'Şerafettin'\n",
        "print(\"En uzun ismin adresi \", en_uzun_indeks)  # Beklenen çıktı: 1"
      ],
      "metadata": {
        "id": "bal0fZgrWL_y"
      },
      "execution_count": null,
      "outputs": []
    },
    {
      "cell_type": "markdown",
      "source": [
        "QUIZ 2\n",
        "\n",
        "S-2) 1 ile 175 arasındaki 13'e tam bölünebilen sayıları bulan ve bu sayıları bir listeye ekleyen ve bu listeye kaç eleman eklendiğini bir Python programı yazınız?\n"
      ],
      "metadata": {
        "id": "_UwddKZ0YAs2"
      }
    },
    {
      "cell_type": "code",
      "source": [
        "Sayi_dizisi = []\n",
        "sayi = 1\n",
        "\n",
        "while sayi <= 175:\n",
        "    if sayi % 13 == 0:\n",
        "        Sayi_dizisi.append(sayi)\n",
        "    sayi += 1\n",
        "\n",
        "# Sonucu ekrana yazdır\n",
        "print(\"1 ile 175 arasındaki 13'e bölünen sayılar:\", Sayi_dizisi)\n",
        "print(\"Toplam sayı adeti: \", len(Sayi_dizisi))"
      ],
      "metadata": {
        "colab": {
          "base_uri": "https://localhost:8080/"
        },
        "id": "7Qu_RGCYXOzt",
        "outputId": "ce0eccf4-bc47-42ea-87c2-85bbd81fb462"
      },
      "execution_count": null,
      "outputs": [
        {
          "output_type": "stream",
          "name": "stdout",
          "text": [
            "1 ile 175 arasındaki 13'e bölünen sayılar: [13, 26, 39, 52, 65, 78, 91, 104, 117, 130, 143, 156, 169]\n",
            "Toplam sayı adeti:  13\n"
          ]
        }
      ]
    },
    {
      "cell_type": "markdown",
      "source": [],
      "metadata": {
        "id": "1VkiuBMwlluB"
      }
    },
    {
      "cell_type": "code",
      "source": [
        "isim_listesi = [\"Ali\", \"Şerafettin\", \"Osman\", \"İclal\", \"Ayşe\"]\n",
        "\n",
        "def en_uzun_ismi_bul(isim_listesi):\n",
        "    en_uzun_isim = isim_listesi[0]  # Başlangıçta ilk ismi en uzun olarak varsayıyoruz\n",
        "    for isim in isim_listesi:\n",
        "        if len(isim) > len(en_uzun_isim):\n",
        "            en_uzun_isim = isim  # Daha uzun bir isim bulunursa, en uzun ismi güncelliyoruz\n",
        "    return en_uzun_isim\n",
        "\n",
        "def en_uzun_isim_indeksi_bul(isim_listesi):\n",
        "    en_uzun_indeks = 0  # Başlangıçta ilk ismin indeksini en uzun olarak varsayıyoruz\n",
        "    en_uzun_uzunluk = len(isim_listesi[0])  # İlk ismin uzunluğunu alıyoruz\n",
        "\n",
        "    for i in range(len(isim_listesi)):\n",
        "        if len(isim_listesi[i]) > en_uzun_uzunluk:\n",
        "            en_uzun_uzunluk = len(isim_listesi[i])\n",
        "            en_uzun_indeks = i  # Daha uzun bir isim bulunursa, en uzun ismin indeksini güncelliyoruz\n",
        "\n",
        "    return en_uzun_indeks\n",
        "\n",
        "en_uzun_isim = en_uzun_ismi_bul(isim_listesi)\n",
        "en_uzun_indeks = en_uzun_isim_indeksi_bul(isim_listesi)\n",
        "\n",
        "print(\"En uzun isim: \", en_uzun_isim)\n",
        "print(\"En uzun ismin liste adresi: \", en_uzun_indeks)"
      ],
      "metadata": {
        "id": "pvK6zLRIXMrE",
        "colab": {
          "base_uri": "https://localhost:8080/"
        },
        "outputId": "a5cda2f3-e7b0-41b5-c9bb-7d6e2131e1d1"
      },
      "execution_count": null,
      "outputs": [
        {
          "output_type": "stream",
          "name": "stdout",
          "text": [
            "En uzun isim:  Şerafettin\n",
            "En uzun ismin liste adresi:  1\n"
          ]
        }
      ]
    },
    {
      "cell_type": "markdown",
      "source": [
        "PYTHON PROGRAMLAMA DİLİNDE DOSYA İŞLEMLERİ\n",
        "\n",
        "Python programlama dilinde dosya işlemleri; dosyaların okunması, yazılması, güncellenmesi ve kapatılması gibi işlemleri kapsamaktadır. Dosya işlemleri, genellikle dosyaların içeriğini almak, bilgi üzerinde işlem yapabilmek veya yeni dosyalar oluşturmak için kullanılır.\n",
        "\n",
        "PYTHON programlama dili üzerindeki dosya işlemleri bağlamında Yapay Zeka (YZ) çalışmaları noktasında veri setlerini ele aldık. Veri yapıları ve Algoritmalar'ın sonucu olarak yapay zeka çalışmaları ele alacağız. Doğru veri yapısı için bu bağlamda yapay zeka uygulamaları için veri setlerinin önemi:\n",
        "\n",
        "1. Modelin Doğruluğu\n",
        "2. Geniş Kapsamlı bir genelleme\n",
        "3. Performans\n",
        "4. Modilin başarısı için verilerin doğruluğu çok önemlidir.\n",
        "\n",
        "Dersin devamı https://github.com/acetinkaya/veriyapilari-algoritma linki üzerinde [Bölüm 3.3.](https://github.com/acetinkaya/veriyapilari-algoritma?tab=readme-ov-file#b%C3%B6l%C3%BCm-3---python-dosya-i%CC%87%C5%9Flemleri) den devam edecektir.  \n"
      ],
      "metadata": {
        "id": "rMmcWBfQmCw8"
      }
    },
    {
      "cell_type": "code",
      "source": [
        "import pandas as pd\n",
        "\n",
        "VeriSetiYolu = '/content/drive/My Drive/VERIYAPILARI_PYTHON/veriseti'\n",
        "\n",
        "for file in os.listdir(VeriSetiYolu):                         # Klasördeki tüm dosyaları listele\n",
        "\n",
        "    if file.endswith(('.xlsx', '.xls')):                     # Sadece Excel dosyalarını seç\n",
        "\n",
        "        df = pd.read_excel(os.path.join(VeriSetiYolu, file))  # Excel dosyasını pandas ile oku\n",
        "\n",
        "        df.to_csv(os.path.join(VeriSetiYolu, file.rsplit('.', 1)[0] + '.csv'), index=False)\n",
        "                                                               # DataFrame'i CSV formatında kaydet\n",
        "        print(f\"{file} dosyası CSV formatına çevrildi.\")     # Çevrim İşlemi Çıktısı\n",
        "\n",
        "# İşlem tamamlandığında kaç tane excel dosyası var ise o kadar *.csv formatına çevildiğinin\n",
        "# bilgisini almaktayız"
      ],
      "metadata": {
        "colab": {
          "base_uri": "https://localhost:8080/"
        },
        "id": "50Np0Sz7ZvnG",
        "outputId": "6c868ab0-0dfc-4a97-c251-396abd60f716"
      },
      "execution_count": null,
      "outputs": [
        {
          "output_type": "stream",
          "name": "stdout",
          "text": [
            "atktan-geri-kazanm-miktarlar.xlsx dosyası CSV formatına çevrildi.\n"
          ]
        }
      ]
    },
    {
      "cell_type": "code",
      "source": [
        "import os\n",
        "import pandas as pd\n",
        "\n",
        "VeriSetiYolu = '/content/drive/My Drive/VERIYAPILARI_PYTHON/veriseti'\n",
        "\n",
        "# VeriSetiYolu içindeki .csv dosyalarını bul ve say\n",
        "csv_dosyalari = [dosya for dosya in os.listdir(VeriSetiYolu) if dosya.endswith('.csv')]\n",
        "\n",
        "# .csv dosya sayısını ekrana yazdır\n",
        "csv_dosya_sayisi = len(csv_dosyalari)\n",
        "print(\"VeriSetiYolu içerisinde \",csv_dosya_sayisi, \"tane .csv dosyası bulunmaktadır.\")\n",
        "\n",
        "# Mevcut *.csv uzantılı dosyaların isimlerini getiriyoruz.\n",
        "print(\"Bulunan CSV Dosyalarının İsimleri Aşağıdadır --> \")\n",
        "for dosya in csv_dosyalari:\n",
        "    print(dosya)"
      ],
      "metadata": {
        "colab": {
          "base_uri": "https://localhost:8080/"
        },
        "id": "mlzrWRBClFcH",
        "outputId": "8a6b18b2-ffea-4986-ac72-88f8713f3086"
      },
      "execution_count": null,
      "outputs": [
        {
          "output_type": "stream",
          "name": "stdout",
          "text": [
            "VeriSetiYolu içerisinde  3 tane .csv dosyası bulunmaktadır.\n",
            "Bulunan CSV Dosyalarının İsimleri Aşağıdadır --> \n",
            "atiktangerikazanimmiktari.csv\n",
            "atktan-geri-kazanm-miktarlar.csv\n",
            "atik.csv\n"
          ]
        }
      ]
    }
  ]
}