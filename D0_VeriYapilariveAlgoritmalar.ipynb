{
  "nbformat": 4,
  "nbformat_minor": 0,
  "metadata": {
    "colab": {
      "provenance": []
    },
    "kernelspec": {
      "name": "python3",
      "display_name": "Python 3"
    },
    "language_info": {
      "name": "python"
    }
  },
  "cells": [
    {
      "cell_type": "markdown",
      "source": [
        "“Makineler Düşünebilir mi ve Nasıl Düşünebilir? (Arf, 1959)”\n",
        "\n",
        "konunun anlatımı https://github.com/acetinkaya/veriyapilari-algoritma sayfası üzerinde belirtilmiştir. D0 dosyası hem bir tanışma hem de dersin giriş bölümüdür. İlgili link üzerinde anlatımlar ve gösterimler yapılmıştır."
      ],
      "metadata": {
        "id": "wSgg6QRRfs4U"
      }
    },
    {
      "cell_type": "code",
      "execution_count": null,
      "metadata": {
        "id": "PqcFRV50fosm"
      },
      "outputs": [],
      "source": []
    }
  ]
}