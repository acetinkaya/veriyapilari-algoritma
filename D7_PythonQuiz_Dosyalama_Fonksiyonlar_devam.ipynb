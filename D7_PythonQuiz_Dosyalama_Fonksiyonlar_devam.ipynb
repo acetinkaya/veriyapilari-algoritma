{
  "nbformat": 4,
  "nbformat_minor": 0,
  "metadata": {
    "colab": {
      "provenance": []
    },
    "kernelspec": {
      "name": "python3",
      "display_name": "Python 3"
    },
    "language_info": {
      "name": "python"
    }
  },
  "cells": [
    {
      "cell_type": "code",
      "execution_count": null,
      "metadata": {
        "id": "EfxKW7fgggMc",
        "colab": {
          "base_uri": "https://localhost:8080/"
        },
        "outputId": "8e906c93-8ade-4def-c69d-67027bf6e518"
      },
      "outputs": [
        {
          "output_type": "stream",
          "name": "stdout",
          "text": [
            "Merhaba, İGÜ - İSTKA / Ders 7\n"
          ]
        }
      ],
      "source": [
        "print(\"Merhaba, İGÜ - İSTKA / Ders 7\") # print ekrana çıktı veren bir koddur."
      ]
    },
    {
      "cell_type": "code",
      "source": [
        "import sys # import python programlama dilinde yazılıma kütüphane eklemeye yarayan bir kod blogudur.\n",
        "print(sys.version)"
      ],
      "metadata": {
        "id": "KQ5OfwrfguPW",
        "colab": {
          "base_uri": "https://localhost:8080/"
        },
        "outputId": "a9d1b823-7149-4dd6-febb-a9a4f9978284"
      },
      "execution_count": null,
      "outputs": [
        {
          "output_type": "stream",
          "name": "stdout",
          "text": [
            "3.10.12 (main, Jul 29 2024, 16:56:48) [GCC 11.4.0]\n"
          ]
        }
      ]
    },
    {
      "cell_type": "code",
      "source": [
        "from google.colab import drive # google colab - drive bağlantısı\n",
        "\n",
        "drive.mount('/content/drive')"
      ],
      "metadata": {
        "id": "ZONtsQb2gzQE",
        "colab": {
          "base_uri": "https://localhost:8080/"
        },
        "outputId": "79db8471-fef0-4456-8126-5ec16b410d95"
      },
      "execution_count": null,
      "outputs": [
        {
          "output_type": "stream",
          "name": "stdout",
          "text": [
            "Mounted at /content/drive\n"
          ]
        }
      ]
    },
    {
      "cell_type": "code",
      "source": [
        "import os\n",
        "\n",
        "os.chdir('/content/drive/My Drive/VERIYAPILARI_ISTKA')\n",
        "\n",
        "!pwd # bize kodun çıktısını dosya yolu olarak veren kod blogudur."
      ],
      "metadata": {
        "id": "vTwXKpPJg0mk",
        "colab": {
          "base_uri": "https://localhost:8080/"
        },
        "outputId": "9cd93985-0752-4be4-b41a-cc0f19ed2a04"
      },
      "execution_count": null,
      "outputs": [
        {
          "output_type": "stream",
          "name": "stdout",
          "text": [
            "/content/drive/My Drive/VERIYAPILARI_ISTKA\n"
          ]
        }
      ]
    },
    {
      "cell_type": "markdown",
      "source": [
        "QUIZ 1- Kullanıcıdan alınan kısa ve uzun kenar değerlerine göre dikdörtgenin alanını hesaplayan bir algoritmanın geliştirilmesi"
      ],
      "metadata": {
        "id": "zXH7xdvcd2HD"
      }
    },
    {
      "cell_type": "code",
      "source": [
        "# Kullanıcıdan kısa kenar değerini al\n",
        "while True:\n",
        "    try:\n",
        "        kenar1 = int(input(\"Kzun Kenar Degerini Girin \"))\n",
        "        if kenar1 < 0:\n",
        "            kenar1 = abs(kenar1)\n",
        "            print(f\"Negatif değer girdiniz, pozitif olarak alındı: {kenar1}\")\n",
        "        break\n",
        "    except ValueError:\n",
        "        print(\"Lütfen geçerli bir tam sayı girin.\")\n",
        "\n",
        "# Kullanıcıdan uzun kenar değerini al\n",
        "while True:\n",
        "    try:\n",
        "        kenar2 = int(input(\"Uzun Kenar Degerini Girin: \"))\n",
        "        if kenar2 < 0:\n",
        "            kenar2 = abs(kenar2)\n",
        "            print(f\"Negatif değer girdiniz, pozitif olarak alındı: {kenar2}\")\n",
        "        break\n",
        "    except ValueError:\n",
        "        print(\"Lütfen geçerli bir tam sayı girin.\")\n",
        "\n",
        "\n",
        "def dikdortgen_alani(kenar1, kenar2):\n",
        "    return kenar1 * kenar2\n",
        "\n",
        "alan = dikdortgen_alani(kenar1, kenar2)\n",
        "print(\"Kenarları \", kenar1 , \" ve \", kenar2 , \" olan dikdörtgenin alanı: \", alan)"
      ],
      "metadata": {
        "colab": {
          "base_uri": "https://localhost:8080/"
        },
        "id": "1NcDnieLcLmu",
        "outputId": "888ef4d4-468f-4977-87c2-af5dde1f7095"
      },
      "execution_count": null,
      "outputs": [
        {
          "output_type": "stream",
          "name": "stdout",
          "text": [
            "Kzun Kenar Degerini Girin 5\n",
            "Uzun Kenar Degerini Girin: -10\n",
            "Negatif değer girdiniz, pozitif olarak alındı: 10\n",
            "Kenarları  5  ve  10  olan dikdörtgenin alanı:  50\n"
          ]
        }
      ]
    },
    {
      "cell_type": "markdown",
      "source": [
        "QUIZ 2- 1 ile 100 arasındaki sayılardan 12'ye bölünenleri bulan Python kodu\n"
      ],
      "metadata": {
        "id": "B-m9MdX8423G"
      }
    },
    {
      "cell_type": "code",
      "source": [
        "Sayi_dizisi = []\n",
        "sayi = 1\n",
        "\n",
        "while sayi <= 100:\n",
        "    if sayi % 12 == 0:\n",
        "        Sayi_dizisi.append(sayi)\n",
        "    sayi += 1\n",
        "\n",
        "# Sonucu ekrana yazdır\n",
        "print(\"1 ile 100 arasındaki 12'ye bölünen sayılar:\", Sayi_dizisi)\n",
        "print(\"Toplam sayı adeti: \", len(Sayi_dizisi))"
      ],
      "metadata": {
        "id": "kuKubeTWg2Ur",
        "colab": {
          "base_uri": "https://localhost:8080/"
        },
        "outputId": "4b606181-6fc5-4860-8049-12457047d1af"
      },
      "execution_count": null,
      "outputs": [
        {
          "output_type": "stream",
          "name": "stdout",
          "text": [
            "1 ile 100 arasındaki 12'ye bölünen sayılar: [12, 24, 36, 48, 60, 72, 84, 96]\n",
            "Toplam sayı adeti:  8\n"
          ]
        }
      ]
    },
    {
      "cell_type": "markdown",
      "source": [
        "PYTHON PROGRAMLAMA DİLİNDE DOSYA İŞLEMLERİ\n",
        "\n",
        "https://github.com/acetinkaya/veriyapilari-algoritma ders notu içerisinde Bölüm 3 içerisinde dosyalama işlemleri gerçekleştirilmektedir. İlgil ders içerisinde aşağıdaki kodlar ve bölüm 3 işlenmiştir.\n"
      ],
      "metadata": {
        "id": "tHAumwc7r8sf"
      }
    },
    {
      "cell_type": "code",
      "source": [
        "import pandas as pd\n",
        "\n",
        "VeriSetiYolu = '/content/drive/My Drive/VERIYAPILARI_ISTKA/veriseti'\n",
        "\n",
        "for file in os.listdir(VeriSetiYolu):                         # Klasördeki tüm dosyaları listele\n",
        "\n",
        "    if file.endswith(('.xlsx', '.xls')):                     # Sadece Excel dosyalarını seç\n",
        "\n",
        "        df = pd.read_excel(os.path.join(VeriSetiYolu, file))  # Excel dosyasını pandas ile oku\n",
        "\n",
        "        df.to_csv(os.path.join(VeriSetiYolu, file.rsplit('.', 1)[0] + '.csv'), index=False)\n",
        "                                                               # DataFrame'i CSV formatında kaydet\n",
        "        print(f\"{file} dosyası CSV formatına çevrildi.\")     # Çevrim İşlemi Çıktısı\n",
        "\n",
        "# İşlem tamamlandığında kaç tane excel dosyası var ise o kadar *.csv formatına çevildiğinin\n",
        "# bilgisini almaktayız"
      ],
      "metadata": {
        "colab": {
          "base_uri": "https://localhost:8080/"
        },
        "id": "EKv4DBVjab_I",
        "outputId": "99f3bb23-3fbe-44ea-997c-8f495753bee8"
      },
      "execution_count": null,
      "outputs": [
        {
          "output_type": "stream",
          "name": "stdout",
          "text": [
            "atktan-geri-kazanm-miktarlar.xlsx dosyası CSV formatına çevrildi.\n"
          ]
        }
      ]
    },
    {
      "cell_type": "code",
      "source": [
        "import os\n",
        "import pandas as pd\n",
        "\n",
        "VeriSetiYolu = '/content/drive/My Drive/VERIYAPILARI_ISTKA/veriseti'\n",
        "\n",
        "# VeriSetiYolu içindeki .csv dosyalarını bul ve say\n",
        "csv_dosyaları = [dosya for dosya in os.listdir(VeriSetiYolu) if dosya.endswith('.csv')]\n",
        "\n",
        "# .csv dosya sayısını ekrana yazdır\n",
        "csv_dosya_sayisi = len(csv_dosyaları)\n",
        "print(f\"VeriSetiYolu içerisinde {csv_dosya_sayisi} tane .csv dosyası bulunuyor.\")"
      ],
      "metadata": {
        "colab": {
          "base_uri": "https://localhost:8080/"
        },
        "id": "YHyUrgbbZpjT",
        "outputId": "c30b3093-ee53-4d8f-ccaf-7de5c019408a"
      },
      "execution_count": null,
      "outputs": [
        {
          "output_type": "stream",
          "name": "stdout",
          "text": [
            "VeriSetiYolu içerisinde 1 tane .csv dosyası bulunuyor.\n"
          ]
        }
      ]
    },
    {
      "cell_type": "markdown",
      "source": [
        "Yapay Zeka çalışmaları noktasında dosyalar aşamasıda veri setlerini ele aldık\n",
        "\n",
        "Veri yapıları ve Algoritmalar'ın sonucu olarak yapay zeka çalışmaları ele alınır\n",
        "\n",
        "Bu bağlamda yapay zeka için veri setinin önemi:\n",
        "\n",
        "1. Modelin Doğruluğu\n",
        "2. Geniş Kapsamlı bir genelleme\n",
        "3. Performans\n",
        "4. Modilin başarısı için verilerin doğruluğu çok önemlidir."
      ],
      "metadata": {
        "id": "H0fO3Ih23tpY"
      }
    },
    {
      "cell_type": "code",
      "source": [],
      "metadata": {
        "id": "CeB_4IEC3s6P"
      },
      "execution_count": null,
      "outputs": []
    }
  ]
}