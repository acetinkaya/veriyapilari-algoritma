{
  "nbformat": 4,
  "nbformat_minor": 0,
  "metadata": {
    "colab": {
      "provenance": []
    },
    "kernelspec": {
      "name": "python3",
      "display_name": "Python 3"
    },
    "language_info": {
      "name": "python"
    }
  },
  "cells": [
    {
      "cell_type": "code",
      "execution_count": null,
      "metadata": {
        "id": "EfxKW7fgggMc",
        "colab": {
          "base_uri": "https://localhost:8080/"
        },
        "outputId": "fc24e356-b50b-4b87-b59d-a21addb76515"
      },
      "outputs": [
        {
          "output_type": "stream",
          "name": "stdout",
          "text": [
            "Merhaba, İGÜ - İSTKA / Ders 9\n"
          ]
        }
      ],
      "source": [
        "print(\"Merhaba, İGÜ - İSTKA / Ders 9\") # print ekrana çıktı veren bir koddur."
      ]
    },
    {
      "cell_type": "code",
      "source": [
        "import sys # import python programlama dilinde yazılıma kütüphane eklemeye yarayan bir kod blogudur.\n",
        "print(sys.version)"
      ],
      "metadata": {
        "id": "KQ5OfwrfguPW",
        "colab": {
          "base_uri": "https://localhost:8080/"
        },
        "outputId": "3c2baaf4-99a6-4be3-d6e4-0f6242d06ff6"
      },
      "execution_count": null,
      "outputs": [
        {
          "output_type": "stream",
          "name": "stdout",
          "text": [
            "3.10.12 (main, Jul 29 2024, 16:56:48) [GCC 11.4.0]\n"
          ]
        }
      ]
    },
    {
      "cell_type": "code",
      "source": [
        "from google.colab import drive # google colab - drive bağlantısı\n",
        "\n",
        "drive.mount('/content/drive')"
      ],
      "metadata": {
        "id": "ZONtsQb2gzQE",
        "colab": {
          "base_uri": "https://localhost:8080/"
        },
        "outputId": "2108e90d-889a-48a5-d73f-8c78ac059b7b"
      },
      "execution_count": null,
      "outputs": [
        {
          "output_type": "stream",
          "name": "stdout",
          "text": [
            "Mounted at /content/drive\n"
          ]
        }
      ]
    },
    {
      "cell_type": "code",
      "source": [
        "import os\n",
        "\n",
        "os.chdir('/content/drive/My Drive/VERIYAPILARI_ISTKA')\n",
        "\n",
        "!pwd # bize kodun çıktısını dosya yolu olarak veren kod blogudur."
      ],
      "metadata": {
        "id": "vTwXKpPJg0mk",
        "colab": {
          "base_uri": "https://localhost:8080/"
        },
        "outputId": "8b73cdea-ec81-402f-c3f1-6200f8e95866"
      },
      "execution_count": null,
      "outputs": [
        {
          "output_type": "stream",
          "name": "stdout",
          "text": [
            "/content/drive/My Drive/VERIYAPILARI_ISTKA\n"
          ]
        }
      ]
    },
    {
      "cell_type": "markdown",
      "source": [
        "## VERİ YAPILARI ve ALGORİTMALAR\n",
        "# Sıralama, Arama ve Graf Algoritmaları\n",
        "\n"
      ],
      "metadata": {
        "id": "1A8Z5581HpVM"
      }
    },
    {
      "cell_type": "markdown",
      "source": [],
      "metadata": {
        "id": "W0PmaFNcIKT7"
      }
    },
    {
      "cell_type": "code",
      "source": [
        "import pandas as pd\n",
        "\n",
        "VeriSetiYolu = '/content/drive/My Drive/VERIYAPILARI_ISTKA/algveriseti'\n",
        "\n",
        "for file in os.listdir(VeriSetiYolu):                         # Klasördeki tüm dosyaları listele\n",
        "\n",
        "    if file.endswith(('.xlsx', '.xls')):                     # Sadece Excel dosyalarını seç\n",
        "\n",
        "        df = pd.read_excel(os.path.join(VeriSetiYolu, file))  # Excel dosyasını pandas ile oku\n",
        "\n",
        "        df.to_csv(os.path.join(VeriSetiYolu, file.rsplit('.', 1)[0] + '.csv'), index=False)\n",
        "                                                               # DataFrame'i CSV formatında kaydet\n",
        "        print(f\"{file} dosyası CSV formatına çevrildi.\")     # Çevrim İşlemi Çıktısı\n",
        "\n",
        "# İşlem tamamlandığında kaç tane excel dosyası var ise o kadar *.csv formatına çevildiğinin\n",
        "# bilgisini almaktayız"
      ],
      "metadata": {
        "id": "kuKubeTWg2Ur"
      },
      "execution_count": null,
      "outputs": []
    },
    {
      "cell_type": "code",
      "source": [
        "import os\n",
        "import pandas as pd\n",
        "\n",
        "VeriSetiYolu = '/content/drive/My Drive/VERIYAPILARI_ISTKA/algveriseti'\n",
        "\n",
        "# VeriSetiYolu içindeki .csv dosyalarını bul ve say\n",
        "csv_dosyaları = [dosya for dosya in os.listdir(VeriSetiYolu) if dosya.endswith('.csv')]\n",
        "\n",
        "# .csv dosya sayısını ekrana yazdır\n",
        "csv_dosya_sayisi = len(csv_dosyaları)\n",
        "print(f\"VeriSetiYolu içerisinde {csv_dosya_sayisi} tane .csv dosyası bulunuyor.\")"
      ],
      "metadata": {
        "colab": {
          "base_uri": "https://localhost:8080/"
        },
        "id": "4sJA4kaMHI1m",
        "outputId": "c37a8aad-050a-4ea7-86d2-01cd29d973df"
      },
      "execution_count": null,
      "outputs": [
        {
          "output_type": "stream",
          "name": "stdout",
          "text": [
            "VeriSetiYolu içerisinde 1 tane .csv dosyası bulunuyor.\n"
          ]
        }
      ]
    },
    {
      "cell_type": "code",
      "source": [
        "import pandas as pd\n",
        "import matplotlib.pyplot as plt\n",
        "\n",
        "# CSV dosyasını oku\n",
        "dosya_yolu = '/content/drive/My Drive/VERIYAPILARI_ISTKA/algveriseti/ilcesuveriseti.csv'\n",
        "csv_dosya = pd.read_csv(dosya_yolu)\n",
        "\n",
        "print(csv_dosya)"
      ],
      "metadata": {
        "colab": {
          "base_uri": "https://localhost:8080/"
        },
        "id": "AisPlEQJHSUS",
        "outputId": "6fe78430-3516-494f-9f0b-fc4ecf53a965"
      },
      "execution_count": null,
      "outputs": [
        {
          "output_type": "stream",
          "name": "stdout",
          "text": [
            "   ID;ILCELER;2015;2016;2017;2018;2019;2020;2021;2022\n",
            "0   1;ADALAR;1.432.494;1.472.276;1.366.581;1.399.1...\n",
            "1   2;ARNAVUTKOY;8.002.123;9.178.953;10.176.132;11...\n",
            "2   3;ATASEHIR;18.597.049;19.974.097;21.205.911;21...\n",
            "3   4;AVCILAR;16.220.476;17.052.253;17.558.403;18....\n",
            "4   5;BUYUKCEKMECE;9.915.435;10.788.924;11.172.787...\n",
            "5   6;BAHCELIEVLER;23.610.609;24.320.533;24.868.59...\n",
            "6   7;BAKIRKOY;11.510.117;11.793.169;12.509.301;15...\n",
            "7   8;BAYRAMPASA;11.545.682;11.914.393;12.516.185;...\n",
            "8   9;BAGCILAR;26.691.720;28.182.511;29.362.186;31...\n",
            "9   10;BASAKSEHIR;16.174.934;18.100.255;19.576.095...\n",
            "10  11;BEYKOZ;10.254.740;10.891.434;11.331.655;12....\n",
            "11  12;BEYLIKDUZU;12.346.365;13.630.387;14.948.006...\n",
            "12  13;BEYOGLU;11.167.382;11.311.755;11.420.559;12...\n",
            "13  14;BESIKTAS;11.976.186;12.385.216;12.609.953;1...\n",
            "14  15;ESENLER;15.854.265;16.584.976;17.162.651;17...\n",
            "15  16;ESENYURT;27.933.397;32.799.007;36.083.030;3...\n",
            "16  17;EYUPSULTAN;17.116.911;17.901.848;18.222.331...\n",
            "17  18;FATIH;22.358.121;21.781.211;21.983.686;23.8...\n",
            "18  19;GOP;17.730.853;18.637.751;18.940.716;19.614...\n",
            "19  20;GUNGOREN;18.994.573;12.600.044;12.769.886;1...\n",
            "20  21;KUCUKCEKMECE;29.188.561;31.086.665;31.994.3...\n",
            "21  22;KADIKOY;23.910.542;24.310.256;24.797.597;26...\n",
            "22  23;KARTAL;19.155.143;20.007.459;20.375.603;21....\n",
            "23  24;KAGITHANE;18.207.418;19.030.632;19.286.724;...\n",
            "24  25;MALTEPE;21.906.064;22.794.286;22.703.875;24...\n",
            "25  26;PENDIK;26.499.977;28.474.258;29.743.117;31....\n",
            "26  27;SANCAKTEPE;12.313.398;14.090.151;15.239.008...\n",
            "27  28;SARIYER;17.555.072;18.711.570;19.427.187;20...\n",
            "28  29;SULTANBEYLI;9.599.250;10.224.559;10.814.861...\n",
            "29  30;SALTANGAZI;17.142.236;18.219.393;19.163.693...\n",
            "30  31;SILIVRI;7.620.350;8.227.604;8.452.805;8.941...\n",
            "31  32;TUZLA;11.546.080;12.690.324;13.625.147;14.9...\n",
            "32  33;ZEYTINBURNU;12.576.945;13.068.037;13.469.51...\n",
            "33  34;CATALCA;2.931.018;3.222.450;3.311.210;3.665...\n",
            "34  35;CEKMEKOY;8.951.936;9.705.483;10.205.702;10....\n",
            "35  36;UMRANIYE;28.085.173;30.065.065;31.061.816;3...\n",
            "36  37;USKUDAR;25.142.059;26.110.542;26.353.986;27...\n",
            "37  38;SILE;1.835.302;2.098.928;2.196.246;2.522.41...\n",
            "38  39;SISLI;15.717.630;15.948.709;16.076.563;17.0...\n"
          ]
        }
      ]
    },
    {
      "cell_type": "code",
      "source": [
        "# Veri setinin yolunun gösterimi ve yüklemesi\n",
        "VeriSetiYolu = '/content/drive/My Drive/VERIYAPILARI_ISTKA/algveriseti/ilcesuveriseti.csv'\n",
        "data = pd.read_csv(VeriSetiYolu, delimiter=';')\n",
        "\n",
        "# ; verilerini temizleyip , verisini dönüştürme işlemidir.\n",
        "for i in data.columns[2:]:\n",
        "    data[i] = data[i].str.replace('.', '').astype(int)\n",
        "\n",
        "print(data.head())"
      ],
      "metadata": {
        "colab": {
          "base_uri": "https://localhost:8080/"
        },
        "id": "ufndJ0iCHkji",
        "outputId": "b6eeb5b9-21b5-4a70-d065-a14d5a3e3d42"
      },
      "execution_count": null,
      "outputs": [
        {
          "output_type": "stream",
          "name": "stdout",
          "text": [
            "   ID       ILCELER      2015      2016      2017      2018      2019  \\\n",
            "0   1        ADALAR   1432494   1472276   1366581   1399182   1371291   \n",
            "1   2    ARNAVUTKOY   8002123   9178953  10176132  11404878  13818204   \n",
            "2   3      ATASEHIR  18597049  19974097  21205911  21496185  22428468   \n",
            "3   4       AVCILAR  16220476  17052253  17558403  18312736  19485453   \n",
            "4   5  BUYUKCEKMECE   9915435  10788924  11172787  12222470  13606571   \n",
            "\n",
            "       2020      2021      2022  \n",
            "0   1513070   1435991   1543403  \n",
            "1  15570466  17102127  18891299  \n",
            "2  23737630  24281319  24377611  \n",
            "3  20824893  20690506  21556002  \n",
            "4  16015731  16167480  17412198  \n"
          ]
        }
      ]
    },
    {
      "cell_type": "code",
      "source": [
        "import pandas as pd\n",
        "import matplotlib.pyplot as plt\n",
        "import matplotlib.ticker as ticker\n",
        "\n",
        "# Veri setini yükleme ve temizleme\n",
        "data = pd.read_csv(VeriSetiYolu, delimiter=';')\n",
        "\n",
        "# Sayısal kolonlardaki verileri temizleyip sayıya dönüştürme\n",
        "for i in data.columns[2:]:\n",
        "    data[i] = data[i].str.replace('.', '').astype(int)\n",
        "\n",
        "# Belirtilen ilçeler için veriyi filtreleme\n",
        "ilceler = [\"AVCILAR\", \"BEYLIKDUZU\", \"BUYUKCEKMECE\", \"KUCUKCEKMECE\", \"SILIVRI\", \"ESENYURT\"]\n",
        "filtre = data[data['ILCELER'].isin(ilceler)]\n",
        "\n",
        "# Seçilen ilçeler için yıllık su tüketim miktarlarını çizme\n",
        "plt.figure(figsize=(15, 8))\n",
        "\n",
        "for ilce in ilceler:\n",
        "    ilce_data = filtre[filtre['ILCELER'] == ilce]\n",
        "    plt.plot(data.columns[2:], ilce_data.iloc[0, 2:], label=ilce)\n",
        "\n",
        "plt.xlabel('Yıllar')\n",
        "plt.ylabel('Su Tüketimi (m3)')\n",
        "plt.title('Belirli İlçelerin Yıllara Göre Su Tüketim Miktarları')\n",
        "\n",
        "# Y eksenine binlik ayırıcı ekleme\n",
        "ax = plt.gca()\n",
        "ax.yaxis.set_major_formatter(ticker.FuncFormatter(lambda x, pos: f'{int(x):,}'))\n",
        "\n",
        "plt.legend()\n",
        "plt.grid(True)\n",
        "plt.tight_layout()\n",
        "plt.show()"
      ],
      "metadata": {
        "colab": {
          "base_uri": "https://localhost:8080/",
          "height": 807
        },
        "id": "Q0Tgn9qvOpag",
        "outputId": "4f7d755a-e513-49eb-f2f5-b53249ccb24c"
      },
      "execution_count": null,
      "outputs": [
        {
          "output_type": "display_data",
          "data": {
            "text/plain": [
              "<Figure size 1500x800 with 1 Axes>"
            ],
            "image/png": "[encoded data removed]"
          },
          "metadata": {}
        }
      ]
    },
    {
      "cell_type": "markdown",
      "source": [
        "Su veri seti üzerinin görselleştirilmesinde graph ve plot ekleme ile görselin detaylandırılması - plotly Kütüphane Kurulum İşlemi !pip install plotly\n"
      ],
      "metadata": {
        "id": "l6wvwdhQO2c3"
      }
    },
    {
      "cell_type": "code",
      "source": [
        "!pip install plotly"
      ],
      "metadata": {
        "colab": {
          "base_uri": "https://localhost:8080/"
        },
        "id": "UUm5zfPaPKU3",
        "outputId": "e261706e-b538-40a8-c6ac-c9d765e866f6"
      },
      "execution_count": null,
      "outputs": [
        {
          "output_type": "stream",
          "name": "stdout",
          "text": [
            "Requirement already satisfied: plotly in /usr/local/lib/python3.10/dist-packages (5.15.0)\n",
            "Requirement already satisfied: tenacity>=6.2.0 in /usr/local/lib/python3.10/dist-packages (from plotly) (9.0.0)\n",
            "Requirement already satisfied: packaging in /usr/local/lib/python3.10/dist-packages (from plotly) (24.1)\n"
          ]
        }
      ]
    },
    {
      "cell_type": "code",
      "source": [
        "import pandas as pd\n",
        "import matplotlib.pyplot as plt\n",
        "import plotly.graph_objects as go\n",
        "\n",
        "# Veri setini yükleme ve temizleme\n",
        "data = pd.read_csv(VeriSetiYolu, delimiter=';')\n",
        "\n",
        "# Sayısal kolonlardaki verileri temizleyip sayıya dönüştürme\n",
        "for i in data.columns[2:]:\n",
        "    data[i] = data[i].str.replace('.', '').astype(int)\n",
        "\n",
        "# Belirtilen ilçeler için veriyi filtreleme\n",
        "ilce_bilgileri = [\"AVCILAR\", \"BEYLIKDUZU\", \"BUYUKCEKMECE\", \"KUCUKCEKMECE\", \"SILIVRI\", \"ESENYURT\"]\n",
        "filtre = data[data['ILCELER'].isin(ilce_bilgileri)]\n",
        "\n",
        "# Plotly kullanarak interaktif grafik oluşturma\n",
        "fig = go.Figure()\n",
        "\n",
        "for ilce in ilce_bilgileri:\n",
        "    ilce_data = filtre[filtre['ILCELER'] == ilce]\n",
        "    fig.add_trace(go.Scatter(\n",
        "         x=data.columns[2:],\n",
        "         y=ilce_data.iloc[0, 2:],\n",
        "         mode='lines+markers',\n",
        "         line=dict(width=3),\n",
        "         name=ilce\n",
        "        ))\n",
        "\n",
        "fig.update_layout(\n",
        "        title='AVCILAR, BEYLIKDUZU, BUYUKCEKMECE, KUCUKCEKMECE, SILIVRI, ESENYURT İlçelerin Yıllara Göre Su Tüketim Miktarları',\n",
        "        xaxis_title='Yıllar',\n",
        "        yaxis_title='Su Tüketimi (m3)',\n",
        "        yaxis=dict(tickformat=','),\n",
        "        template='plotly_white'\n",
        ")\n",
        "\n",
        "fig.show()"
      ],
      "metadata": {
        "colab": {
          "base_uri": "https://localhost:8080/",
          "height": 542
        },
        "id": "mscWOn5VO3nl",
        "outputId": "1581fe40-b43c-4c43-a141-ff9175f05c2d"
      },
      "execution_count": null,
      "outputs": [
        {
          "output_type": "display_data",
          "data": {
            "text/html": [
              "<html>\n",
              "<head><meta charset=\"utf-8\" /></head>\n",
              "<body>\n",
              "    <div>            <script src=\"https://cdnjs.cloudflare.com/ajax/libs/mathjax/2.7.5/MathJax.js?config=TeX-AMS-MML_SVG\"></script><script type=\"text/javascript\">if (window.MathJax && window.MathJax.Hub && window.MathJax.Hub.Config) {window.MathJax.Hub.Config({SVG: {font: \"STIX-Web\"}});}</script>                <script type=\"text/javascript\">window.PlotlyConfig = {MathJaxConfig: 'local'};</script>\n",
              "        <script charset=\"utf-8\" src=\"https://cdn.plot.ly/plotly-2.24.1.min.js\"></script>                <div id=\"5dcfc184-3fa8-445c-b184-ff85da6f00a7\" class=\"plotly-graph-div\" style=\"height:525px; width:100%;\"></div>            <script type=\"text/javascript\">                                    window.PLOTLYENV=window.PLOTLYENV || {};                                    if (document.getElementById(\"5dcfc184-3fa8-445c-b184-ff85da6f00a7\")) {                    Plotly.newPlot(                        \"5dcfc184-3fa8-445c-b184-ff85da6f00a7\",                        [{\"line\":{\"width\":3},\"mode\":\"lines+markers\",\"name\":\"AVCILAR\",\"x\":[\"2015\",\"2016\",\"2017\",\"2018\",\"2019\",\"2020\",\"2021\",\"2022\"],\"y\":[16220476,17052253,17558403,18312736,19485453,20824893,20690506,21556002],\"type\":\"scatter\"},{\"line\":{\"width\":3},\"mode\":\"lines+markers\",\"name\":\"BEYLIKDUZU\",\"x\":[\"2015\",\"2016\",\"2017\",\"2018\",\"2019\",\"2020\",\"2021\",\"2022\"],\"y\":[12346365,13630387,14948006,16738110,17387725,20325425,20415406,22961265],\"type\":\"scatter\"},{\"line\":{\"width\":3},\"mode\":\"lines+markers\",\"name\":\"BUYUKCEKMECE\",\"x\":[\"2015\",\"2016\",\"2017\",\"2018\",\"2019\",\"2020\",\"2021\",\"2022\"],\"y\":[9915435,10788924,11172787,12222470,13606571,16015731,16167480,17412198],\"type\":\"scatter\"},{\"line\":{\"width\":3},\"mode\":\"lines+markers\",\"name\":\"KUCUKCEKMECE\",\"x\":[\"2015\",\"2016\",\"2017\",\"2018\",\"2019\",\"2020\",\"2021\",\"2022\"],\"y\":[29188561,31086665,31994320,33889979,35731905,38012294,38030116,38832413],\"type\":\"scatter\"},{\"line\":{\"width\":3},\"mode\":\"lines+markers\",\"name\":\"SILIVRI\",\"x\":[\"2015\",\"2016\",\"2017\",\"2018\",\"2019\",\"2020\",\"2021\",\"2022\"],\"y\":[7620350,8227604,8452805,8941729,10056059,11744060,12232563,13216660],\"type\":\"scatter\"},{\"line\":{\"width\":3},\"mode\":\"lines+markers\",\"name\":\"ESENYURT\",\"x\":[\"2015\",\"2016\",\"2017\",\"2018\",\"2019\",\"2020\",\"2021\",\"2022\"],\"y\":[27933397,32799007,36083030,39205682,43576187,59865610,48988082,52836878],\"type\":\"scatter\"}],                        {\"template\":{\"data\":{\"barpolar\":[{\"marker\":{\"line\":{\"color\":\"white\",\"width\":0.5},\"pattern\":{\"fillmode\":\"overlay\",\"size\":10,\"solidity\":0.2}},\"type\":\"barpolar\"}],\"bar\":[{\"error_x\":{\"color\":\"#2a3f5f\"},\"error_y\":{\"color\":\"#2a3f5f\"},\"marker\":{\"line\":{\"color\":\"white\",\"width\":0.5},\"pattern\":{\"fillmode\":\"overlay\",\"size\":10,\"solidity\":0.2}},\"type\":\"bar\"}],\"carpet\":[{\"aaxis\":{\"endlinecolor\":\"#2a3f5f\",\"gridcolor\":\"#C8D4E3\",\"linecolor\":\"#C8D4E3\",\"minorgridcolor\":\"#C8D4E3\",\"startlinecolor\":\"#2a3f5f\"},\"baxis\":{\"endlinecolor\":\"#2a3f5f\",\"gridcolor\":\"#C8D4E3\",\"linecolor\":\"#C8D4E3\",\"minorgridcolor\":\"#C8D4E3\",\"startlinecolor\":\"#2a3f5f\"},\"type\":\"carpet\"}],\"choropleth\":[{\"colorbar\":{\"outlinewidth\":0,\"ticks\":\"\"},\"type\":\"choropleth\"}],\"contourcarpet\":[{\"colorbar\":{\"outlinewidth\":0,\"ticks\":\"\"},\"type\":\"contourcarpet\"}],\"contour\":[{\"colorbar\":{\"outlinewidth\":0,\"ticks\":\"\"},\"colorscale\":[[0.0,\"#0d0887\"],[0.1111111111111111,\"#46039f\"],[0.2222222222222222,\"#7201a8\"],[0.3333333333333333,\"#9c179e\"],[0.4444444444444444,\"#bd3786\"],[0.5555555555555556,\"#d8576b\"],[0.6666666666666666,\"#ed7953\"],[0.7777777777777778,\"#fb9f3a\"],[0.8888888888888888,\"#fdca26\"],[1.0,\"#f0f921\"]],\"type\":\"contour\"}],\"heatmapgl\":[{\"colorbar\":{\"outlinewidth\":0,\"ticks\":\"\"},\"colorscale\":[[0.0,\"#0d0887\"],[0.1111111111111111,\"#46039f\"],[0.2222222222222222,\"#7201a8\"],[0.3333333333333333,\"#9c179e\"],[0.4444444444444444,\"#bd3786\"],[0.5555555555555556,\"#d8576b\"],[0.6666666666666666,\"#ed7953\"],[0.7777777777777778,\"#fb9f3a\"],[0.8888888888888888,\"#fdca26\"],[1.0,\"#f0f921\"]],\"type\":\"heatmapgl\"}],\"heatmap\":[{\"colorbar\":{\"outlinewidth\":0,\"ticks\":\"\"},\"colorscale\":[[0.0,\"#0d0887\"],[0.1111111111111111,\"#46039f\"],[0.2222222222222222,\"#7201a8\"],[0.3333333333333333,\"#9c179e\"],[0.4444444444444444,\"#bd3786\"],[0.5555555555555556,\"#d8576b\"],[0.6666666666666666,\"#ed7953\"],[0.7777777777777778,\"#fb9f3a\"],[0.8888888888888888,\"#fdca26\"],[1.0,\"#f0f921\"]],\"type\":\"heatmap\"}],\"histogram2dcontour\":[{\"colorbar\":{\"outlinewidth\":0,\"ticks\":\"\"},\"colorscale\":[[0.0,\"#0d0887\"],[0.1111111111111111,\"#46039f\"],[0.2222222222222222,\"#7201a8\"],[0.3333333333333333,\"#9c179e\"],[0.4444444444444444,\"#bd3786\"],[0.5555555555555556,\"#d8576b\"],[0.6666666666666666,\"#ed7953\"],[0.7777777777777778,\"#fb9f3a\"],[0.8888888888888888,\"#fdca26\"],[1.0,\"#f0f921\"]],\"type\":\"histogram2dcontour\"}],\"histogram2d\":[{\"colorbar\":{\"outlinewidth\":0,\"ticks\":\"\"},\"colorscale\":[[0.0,\"#0d0887\"],[0.1111111111111111,\"#46039f\"],[0.2222222222222222,\"#7201a8\"],[0.3333333333333333,\"#9c179e\"],[0.4444444444444444,\"#bd3786\"],[0.5555555555555556,\"#d8576b\"],[0.6666666666666666,\"#ed7953\"],[0.7777777777777778,\"#fb9f3a\"],[0.8888888888888888,\"#fdca26\"],[1.0,\"#f0f921\"]],\"type\":\"histogram2d\"}],\"histogram\":[{\"marker\":{\"pattern\":{\"fillmode\":\"overlay\",\"size\":10,\"solidity\":0.2}},\"type\":\"histogram\"}],\"mesh3d\":[{\"colorbar\":{\"outlinewidth\":0,\"ticks\":\"\"},\"type\":\"mesh3d\"}],\"parcoords\":[{\"line\":{\"colorbar\":{\"outlinewidth\":0,\"ticks\":\"\"}},\"type\":\"parcoords\"}],\"pie\":[{\"automargin\":true,\"type\":\"pie\"}],\"scatter3d\":[{\"line\":{\"colorbar\":{\"outlinewidth\":0,\"ticks\":\"\"}},\"marker\":{\"colorbar\":{\"outlinewidth\":0,\"ticks\":\"\"}},\"type\":\"scatter3d\"}],\"scattercarpet\":[{\"marker\":{\"colorbar\":{\"outlinewidth\":0,\"ticks\":\"\"}},\"type\":\"scattercarpet\"}],\"scattergeo\":[{\"marker\":{\"colorbar\":{\"outlinewidth\":0,\"ticks\":\"\"}},\"type\":\"scattergeo\"}],\"scattergl\":[{\"marker\":{\"colorbar\":{\"outlinewidth\":0,\"ticks\":\"\"}},\"type\":\"scattergl\"}],\"scattermapbox\":[{\"marker\":{\"colorbar\":{\"outlinewidth\":0,\"ticks\":\"\"}},\"type\":\"scattermapbox\"}],\"scatterpolargl\":[{\"marker\":{\"colorbar\":{\"outlinewidth\":0,\"ticks\":\"\"}},\"type\":\"scatterpolargl\"}],\"scatterpolar\":[{\"marker\":{\"colorbar\":{\"outlinewidth\":0,\"ticks\":\"\"}},\"type\":\"scatterpolar\"}],\"scatter\":[{\"fillpattern\":{\"fillmode\":\"overlay\",\"size\":10,\"solidity\":0.2},\"type\":\"scatter\"}],\"scatterternary\":[{\"marker\":{\"colorbar\":{\"outlinewidth\":0,\"ticks\":\"\"}},\"type\":\"scatterternary\"}],\"surface\":[{\"colorbar\":{\"outlinewidth\":0,\"ticks\":\"\"},\"colorscale\":[[0.0,\"#0d0887\"],[0.1111111111111111,\"#46039f\"],[0.2222222222222222,\"#7201a8\"],[0.3333333333333333,\"#9c179e\"],[0.4444444444444444,\"#bd3786\"],[0.5555555555555556,\"#d8576b\"],[0.6666666666666666,\"#ed7953\"],[0.7777777777777778,\"#fb9f3a\"],[0.8888888888888888,\"#fdca26\"],[1.0,\"#f0f921\"]],\"type\":\"surface\"}],\"table\":[{\"cells\":{\"fill\":{\"color\":\"#EBF0F8\"},\"line\":{\"color\":\"white\"}},\"header\":{\"fill\":{\"color\":\"#C8D4E3\"},\"line\":{\"color\":\"white\"}},\"type\":\"table\"}]},\"layout\":{\"annotationdefaults\":{\"arrowcolor\":\"#2a3f5f\",\"arrowhead\":0,\"arrowwidth\":1},\"autotypenumbers\":\"strict\",\"coloraxis\":{\"colorbar\":{\"outlinewidth\":0,\"ticks\":\"\"}},\"colorscale\":{\"diverging\":[[0,\"#8e0152\"],[0.1,\"#c51b7d\"],[0.2,\"#de77ae\"],[0.3,\"#f1b6da\"],[0.4,\"#fde0ef\"],[0.5,\"#f7f7f7\"],[0.6,\"#e6f5d0\"],[0.7,\"#b8e186\"],[0.8,\"#7fbc41\"],[0.9,\"#4d9221\"],[1,\"#276419\"]],\"sequential\":[[0.0,\"#0d0887\"],[0.1111111111111111,\"#46039f\"],[0.2222222222222222,\"#7201a8\"],[0.3333333333333333,\"#9c179e\"],[0.4444444444444444,\"#bd3786\"],[0.5555555555555556,\"#d8576b\"],[0.6666666666666666,\"#ed7953\"],[0.7777777777777778,\"#fb9f3a\"],[0.8888888888888888,\"#fdca26\"],[1.0,\"#f0f921\"]],\"sequentialminus\":[[0.0,\"#0d0887\"],[0.1111111111111111,\"#46039f\"],[0.2222222222222222,\"#7201a8\"],[0.3333333333333333,\"#9c179e\"],[0.4444444444444444,\"#bd3786\"],[0.5555555555555556,\"#d8576b\"],[0.6666666666666666,\"#ed7953\"],[0.7777777777777778,\"#fb9f3a\"],[0.8888888888888888,\"#fdca26\"],[1.0,\"#f0f921\"]]},\"colorway\":[\"#636efa\",\"#EF553B\",\"#00cc96\",\"#ab63fa\",\"#FFA15A\",\"#19d3f3\",\"#FF6692\",\"#B6E880\",\"#FF97FF\",\"#FECB52\"],\"font\":{\"color\":\"#2a3f5f\"},\"geo\":{\"bgcolor\":\"white\",\"lakecolor\":\"white\",\"landcolor\":\"white\",\"showlakes\":true,\"showland\":true,\"subunitcolor\":\"#C8D4E3\"},\"hoverlabel\":{\"align\":\"left\"},\"hovermode\":\"closest\",\"mapbox\":{\"style\":\"light\"},\"paper_bgcolor\":\"white\",\"plot_bgcolor\":\"white\",\"polar\":{\"angularaxis\":{\"gridcolor\":\"#EBF0F8\",\"linecolor\":\"#EBF0F8\",\"ticks\":\"\"},\"bgcolor\":\"white\",\"radialaxis\":{\"gridcolor\":\"#EBF0F8\",\"linecolor\":\"#EBF0F8\",\"ticks\":\"\"}},\"scene\":{\"xaxis\":{\"backgroundcolor\":\"white\",\"gridcolor\":\"#DFE8F3\",\"gridwidth\":2,\"linecolor\":\"#EBF0F8\",\"showbackground\":true,\"ticks\":\"\",\"zerolinecolor\":\"#EBF0F8\"},\"yaxis\":{\"backgroundcolor\":\"white\",\"gridcolor\":\"#DFE8F3\",\"gridwidth\":2,\"linecolor\":\"#EBF0F8\",\"showbackground\":true,\"ticks\":\"\",\"zerolinecolor\":\"#EBF0F8\"},\"zaxis\":{\"backgroundcolor\":\"white\",\"gridcolor\":\"#DFE8F3\",\"gridwidth\":2,\"linecolor\":\"#EBF0F8\",\"showbackground\":true,\"ticks\":\"\",\"zerolinecolor\":\"#EBF0F8\"}},\"shapedefaults\":{\"line\":{\"color\":\"#2a3f5f\"}},\"ternary\":{\"aaxis\":{\"gridcolor\":\"#DFE8F3\",\"linecolor\":\"#A2B1C6\",\"ticks\":\"\"},\"baxis\":{\"gridcolor\":\"#DFE8F3\",\"linecolor\":\"#A2B1C6\",\"ticks\":\"\"},\"bgcolor\":\"white\",\"caxis\":{\"gridcolor\":\"#DFE8F3\",\"linecolor\":\"#A2B1C6\",\"ticks\":\"\"}},\"title\":{\"x\":0.05},\"xaxis\":{\"automargin\":true,\"gridcolor\":\"#EBF0F8\",\"linecolor\":\"#EBF0F8\",\"ticks\":\"\",\"title\":{\"standoff\":15},\"zerolinecolor\":\"#EBF0F8\",\"zerolinewidth\":2},\"yaxis\":{\"automargin\":true,\"gridcolor\":\"#EBF0F8\",\"linecolor\":\"#EBF0F8\",\"ticks\":\"\",\"title\":{\"standoff\":15},\"zerolinecolor\":\"#EBF0F8\",\"zerolinewidth\":2}}},\"yaxis\":{\"title\":{\"text\":\"Su T\\u00fcketimi (m3)\"},\"tickformat\":\",\"},\"title\":{\"text\":\"AVCILAR, BEYLIKDUZU, BUYUKCEKMECE, KUCUKCEKMECE, SILIVRI, ESENYURT \\u0130l\\u00e7elerin Y\\u0131llara G\\u00f6re Su T\\u00fcketim Miktarlar\\u0131\"},\"xaxis\":{\"title\":{\"text\":\"Y\\u0131llar\"}}},                        {\"responsive\": true}                    ).then(function(){\n",
              "                            \n",
              "var gd = document.getElementById('5dcfc184-3fa8-445c-b184-ff85da6f00a7');\n",
              "var x = new MutationObserver(function (mutations, observer) {{\n",
              "        var display = window.getComputedStyle(gd).display;\n",
              "        if (!display || display === 'none') {{\n",
              "            console.log([gd, 'removed!']);\n",
              "            Plotly.purge(gd);\n",
              "            observer.disconnect();\n",
              "        }}\n",
              "}});\n",
              "\n",
              "// Listen for the removal of the full notebook cells\n",
              "var notebookContainer = gd.closest('#notebook-container');\n",
              "if (notebookContainer) {{\n",
              "    x.observe(notebookContainer, {childList: true});\n",
              "}}\n",
              "\n",
              "// Listen for the clearing of the current output cell\n",
              "var outputEl = gd.closest('.output');\n",
              "if (outputEl) {{\n",
              "    x.observe(outputEl, {childList: true});\n",
              "}}\n",
              "\n",
              "                        })                };                            </script>        </div>\n",
              "</body>\n",
              "</html>"
            ]
          },
          "metadata": {}
        }
      ]
    },
    {
      "cell_type": "markdown",
      "source": [
        "## SIRALAMA ALGORİTMALARI\n",
        "\n",
        "1. Kabarcık (Bubble) Sıralama Algoritması -> Dizi içerisinde ardışık öğeler karşılaştırılır ve gerektiğinde yer değiştirir.\n",
        "\n",
        "2. Seçim (Selection) Sıralama Algoritması -> En küçük veya en büyük öğeyi seçip, onu listenin sonuna yerleştirme işlemidir.\n",
        "\n",
        "3. Insertion (Eklemeli) Sıralama Algoritması -> Veriyi sırayla ele alır ve her yeni öğeyi sıralanmış bir alt listeye ekleme işlemidir.\n",
        "\n",
        "4. Kova (Bucket) Sıralama Algoritması -> Veriyi birden çok kısmi gruba ayırarak sıralar.\n",
        "\n",
        "5. Birleştirmeli (Merge) Sıralama Algoritması -> Böl ve yönet işlemi gerçekleştirilir.\n",
        "\n",
        "6. Hızlı (Quick) Sıralama Algoritması -> Böl ve yönet işlemi gerçekleştirilir."
      ],
      "metadata": {
        "id": "mrEP1crsPiI1"
      }
    },
    {
      "cell_type": "code",
      "source": [
        "# 1. Kabarcık (Bubble) Sıralama Algoritması\n",
        "\n",
        "dizi = [64, 34, 90, 1]\n",
        "\n",
        "def kabarcikalgoritmasi(dizi):\n",
        "    n = len(dizi)  # 1. Adım: Dizinin uzunluğunu alır ve n değişkenine atar.\n",
        "    for i in range(n):  # 2. Adım: i değişkeni 0'dan n-1'e kadar döner, bu dış döngüdür.\n",
        "        for j in range(0, n-i-1):  # 3. Adım: j değişkeni, 0'dan n-i-1'e kadar döner, bu iç döngüdür.\n",
        "            if dizi[j] > dizi[j+1]:  # 4. Adım: Şu anki eleman ile bir sonraki elemanı karşılaştırır.\n",
        "               dizi[j], dizi[j+1] = dizi[j+1], dizi[j]  # 5. Adım: Eğer şu anki eleman bir sonrakinden büyükse, yer değiştirir.\n",
        "    return dizi  # 6. Adım: Sıralanmış diziyi döner.\n",
        "\n",
        "kabarcik_siralama = kabarcikalgoritmasi(dizi)\n",
        "print(\"Sıralama Sonucu: \", kabarcik_siralama)"
      ],
      "metadata": {
        "id": "Nnkhg9LHPUBr",
        "colab": {
          "base_uri": "https://localhost:8080/"
        },
        "outputId": "7955445d-6f6b-4386-87e5-e38f2401f0db"
      },
      "execution_count": null,
      "outputs": [
        {
          "output_type": "stream",
          "name": "stdout",
          "text": [
            "Sıralama Sonucu:  [1, 34, 64, 90]\n"
          ]
        }
      ]
    },
    {
      "cell_type": "markdown",
      "source": [
        "## Başlangıç Dizisi: [64, 34, 90, 1]\n",
        "\n",
        "1) i = 0 durumunda\n",
        "\n",
        "Adım 1: 64 ve 34 karşılaştırılır. 64 büyük olduğu için yer değiştirirler.\n",
        "\n",
        "Dizinin Yeni Hali -> [34, 64, 90, 1]\n",
        "-------------------------------------------------------------------------------\n",
        "Adım 2: 64 ve 90 karşılaştırılır. 64 küçük olduğu için yer değiştirme olmaz.\n",
        "\n",
        "Dizinin Yeni Hali -> [34, 64, 90, 1]\n",
        "-------------------------------------------------------------------------------\n",
        "Adım 3: 90 ve 1 karşılaştırılır. 90 büyük olduğu için yer değiştirirler.\n",
        "\n",
        "Dizinin Yeni Hali -> [34, 64, 1, 90]\n",
        "\n",
        "-------------------------------------------------------------------------------\n",
        "-------------------------------------------------------------------------------\n",
        "\n",
        "2) i = 1 durumunda\n",
        "\n",
        "Adım 1: 34 ve 64 karşılaştırılır. 34 küçük olduğu için yer değiştirme olmaz.\n",
        "\n",
        "Dizinin Yeni Hali -> [34, 64, 1, 90]\n",
        "-------------------------------------------------------------------------------\n",
        "Adım 2: 64 ve 1 karşılaştırılır. 64 büyük olduğu için yer değiştirirler.\n",
        "\n",
        "Dizinin Yeni Hali -> [34, 1, 64, 90]\n",
        "\n",
        "-------------------------------------------------------------------------------\n",
        "-------------------------------------------------------------------------------\n",
        "\n",
        "3) i = 2 durumunda\n",
        "\n",
        "Adım 1: 34 ve 1 karşılaştırılır. 34 büyük olduğu için yer değiştirirler.\n",
        "\n",
        "Dizinin Yeni Hali -> [1, 34, 64, 90]\n",
        "\n",
        "-------------------------------------------------------------------------------\n",
        "-------------------------------------------------------------------------------\n",
        "\n",
        "4) i = 3 durumunda\n",
        "\n",
        "Kalan tek eleman zaten sıralı olduğu için hiçbir işlem yapılmaz.\n",
        "\n",
        "Dizinin Son Hali -> [1, 34, 64, 90]\n"
      ],
      "metadata": {
        "id": "ZQUm1oQlWRSy"
      }
    },
    {
      "cell_type": "code",
      "source": [
        "# 2. Seçim (Selection) Sıralama Algoritması\n",
        "\n",
        "dizi = [64, 34, 90, 1]\n",
        "\n",
        "def secimalgoritmasi(dizi):\n",
        "    n = len(dizi)  # 1. Adım: Dizinin uzunluğunu alır ve 'n' değişkenine atar.\n",
        "    for i in range(n):  # 2. Adım: 'i' değişkeni 0'dan n-1'e kadar döner. Bu dış döngüdür ve dizinin her öğesini sırasıyla ele alır.\n",
        "        degisken = i  # 3. Adım: Şu anki döngüdeki en küçük elemanın indeksini 'degisken' olarak kabul eder. Başlangıçta 'i' indeksini alır.\n",
        "        for j in range(i+1, n):  # 4. Adım: 'j' değişkeni, 'i+1'den n'e kadar döner. Bu iç döngüdür ve 'i'nin sağındaki elemanları tarar.\n",
        "            if dizi[j] < dizi[degisken]:  # 5. Adım: Eğer 'dizi[j]' değeri 'dizi[degisken]' değerinden küçükse,\n",
        "                degisken = j  # 6. Adım: 'degisken' güncellenir ve yeni minimum değerin bulunduğu indeks olarak atanır.\n",
        "        dizi[i], dizi[degisken] = dizi[degisken], dizi[i]  # 7. Adım: 'degisken' ile 'i' indeksi arasındaki elemanlar yer değiştirilir.\n",
        "\n",
        "    return dizi  # 8. Adım: Sıralanmış diziyi döner.\n",
        "\n",
        "# Test\n",
        "secimsiralamasi = secimalgoritmasi(dizi)\n",
        "print(\"Sıralama Sonucu:\", secimsiralamasi)"
      ],
      "metadata": {
        "colab": {
          "base_uri": "https://localhost:8080/"
        },
        "id": "0DArwseDEFp0",
        "outputId": "d75f1ce9-b7b1-4b05-a98e-4087eca13a1a"
      },
      "execution_count": null,
      "outputs": [
        {
          "output_type": "stream",
          "name": "stdout",
          "text": [
            "Sıralama Sonucu: [1, 34, 64, 90]\n"
          ]
        }
      ]
    },
    {
      "cell_type": "markdown",
      "source": [
        "## Başlangıç Dizisi: [64, 34, 90, 1]\n",
        "\n",
        "# 1) i = 0 durumunda\n",
        "\n",
        "Adım 1: degisken değişkeni i = 0 olarak başlar, yani başlangıçta en küçük elemanın indeksi 0 kabul edilir (degisken = 0).\n",
        "\n",
        "Adım 2: j = 1 için, 34 < 64 olduğundan, degisken = 1 olarak güncellenir.\n",
        "\n",
        "Adım 3: j = 2 için, 90 < 34 olmadığından degisken değişmez.\n",
        "\n",
        "Adım 4: j = 3 için, 1 < 34 olduğundan, degisken = 3 olarak güncellenir.\n",
        "\n",
        "Adım 5: degisken = 3 ile i = 0 arasında yer değiştirilir. 1 ile 64 yer değiştirir.\n",
        "\n",
        "Dizinin Yeni Hali -> [1, 34, 90, 64]\n",
        "\n",
        "Not: Bu iterasyonun sonunda en küçük değer (1) dizinin başına yerleşmiş olur.\n",
        "\n",
        "----------------------------------------------------------------------------------------------------------------------------------------------------------------\n",
        "\n",
        "# 2) i = 1 durumunda\n",
        "\n",
        "Adım 1: degisken değişkeni i = 1 olarak başlar, yani en küçük elemanın indeksi 1 kabul edilir (degisken = 1).\n",
        "\n",
        "Adım 2: j = 2 için, 90 < 34 olmadığından degisken değişmez.\n",
        "\n",
        "Adım 3: j = 3 için, 64 < 34 olmadığından degisken değişmez.\n",
        "\n",
        "Adım 4: degisken değişmediği için yer değiştirme yapılmaz.\n",
        "\n",
        "Dizinin Yeni Hali -> [1, 34, 90, 64]\n",
        "\n",
        "Not: Bu iterasyonun sonunda dizinin ikinci en küçük değeri (34) yerinde kalır.\n",
        "\n",
        "----------------------------------------------------------------------------------------------------------------------------------------------------------------\n",
        "\n",
        "# 3) i = 2 durumunda\n",
        "\n",
        "Adım 1: degisken değişkeni i = 2 olarak başlar (degisken = 2).\n",
        "\n",
        "Adım 2: j = 3 için, 64 < 90 olduğundan, degisken = 3 olarak güncellenir.\n",
        "\n",
        "Adım 3: degisken = 3 ile i = 2 arasında yer değiştirilir. 64 ile 90 yer değiştirir.\n",
        "\n",
        "Dizinin Yeni Hali -> [1, 34, 64, 90]\n",
        "\n",
        "Not: Bu iterasyonun sonunda dizinin üçüncü en küçük değeri (64) yerleşmiş olur.\n",
        "\n",
        "----------------------------------------------------------------------------------------------------------------------------------------------------------------\n",
        "\n",
        "# 4) i = 3 durumunda\n",
        "\n",
        "Adım 1: Sıralı süreç sağlandı hiçbir işlem yapılmaz.\n",
        "\n",
        "Dizinin son hali -> [1, 34, 64, 90]"
      ],
      "metadata": {
        "id": "u-toDPlcYPHB"
      }
    },
    {
      "cell_type": "code",
      "source": [
        "# 3. Insertion (Eklemeli) Sıralama Algoritması\n",
        "\n",
        "dizi = [64, 34, 90, 1]\n",
        "\n",
        "def eklemelialgoritma(dizi):\n",
        "    for i in range(1, len(dizi)):  # 1. Adım: 'i' değişkeni 1'den başlayarak dizinin sonuna kadar döner.\n",
        "        degisken = dizi[i]  # 2. Adım: 'degisken' değişkeni, şu anda incelenen elemanı tutar.\n",
        "        j = i-1  # 3. Adım: 'j' değişkeni, 'i' indeksinin bir öncesindeki indeksi gösterir.\n",
        "\n",
        "        while j >= 0 and degisken < dizi[j]:  # 4. Adım: 'degisken', 'dizi[j]'den küçük olduğu sürece ve 'j' 0'dan büyük ya da eşit olduğu sürece döngü devam eder.\n",
        "            dizi[j + 1] = dizi[j]  # 5. Adım: 'dizi[j]' değerini bir sağa kaydırır.\n",
        "            j -= 1  # 6. Adım: 'j' indeksini bir azaltır ve döngü devam eder.\n",
        "\n",
        "        dizi[j + 1] = degisken  # 7. Adım: 'degisken' değişkenini dizi içerisine yerleştirir.\n",
        "\n",
        "    return dizi  # 8. Adım: Sıralanmış diziyi döner.\n",
        "\n",
        "eklemelisiralama = eklemelialgoritma(dizi)\n",
        "print(\"Secim Sıralaması:\", eklemelisiralama)"
      ],
      "metadata": {
        "colab": {
          "base_uri": "https://localhost:8080/"
        },
        "id": "-lV8-A0-HxX1",
        "outputId": "91f42707-51a2-4dfd-c4b5-845364bd117a"
      },
      "execution_count": null,
      "outputs": [
        {
          "output_type": "stream",
          "name": "stdout",
          "text": [
            "Secim Sıralaması: [1, 34, 64, 90]\n"
          ]
        }
      ]
    },
    {
      "cell_type": "markdown",
      "source": [
        "## Başlangıç Dizisi: [64, 34, 90, 1]\n",
        "\n",
        "# 1) i = 1 durumunda\n",
        "\n",
        "Adım 1: degisken = dizi[i] = 34\n",
        "\n",
        "Adım 2: j = i - 1 = 0\n",
        "\n",
        "Adım 3: dizi[j] = 64\n",
        "\n",
        "Adım 4: 34 < 64, bu yüzden dizi[j + 1] = dizi[j] olur:\n",
        "\n",
        "Dizi: [64, 64, 90, 1]\n",
        "\n",
        "Adım 5: j -= 1 ile j = -1 olur, döngü biter.\n",
        "\n",
        "Adım 6: dizi[j + 1] = degisken olur, 34 yerine yerleştirilir:\n",
        "\n",
        "Dizi: [34, 64, 90, 1]\n",
        "\n",
        "Not: İlk iki eleman (34 ve 64) doğru sıralanmış olur.\n",
        "\n",
        "----------------------------------------------------------------------------------------------------------------------------------------------------------------\n",
        "\n",
        "# 2) i = 2 durumunda\n",
        "\n",
        "Adım 1: degisken = dizi[i] = 90\n",
        "\n",
        "Adım 2: j = i - 1 = 1\n",
        "\n",
        "Adım 3: dizi[j] = 64\n",
        "\n",
        "Adım 4: 90 > 64, bu yüzden döngü devam etmez.\n",
        "\n",
        "Adım 5: dizi[j + 1] = degisken olduğu gibi kalır:\n",
        "\n",
        "Dizi: [34, 64, 90, 1]\n",
        "\n",
        "----------------------------------------------------------------------------------------------------------------------------------------------------------------\n",
        "\n",
        "# 3) i = 3 durumunda\n",
        "\n",
        "Adım 1: degisken = dizi[i] = 1\n",
        "\n",
        "Adım 2: j = i - 1 = 2\n",
        "\n",
        "Adım 3: dizi[j] = 90\n",
        "\n",
        "Adım 4: 1 < 90, bu yüzden dizi[j + 1] = dizi[j] olur:\n",
        "\n",
        "Dizi: [34, 64, 90, 90]\n",
        "\n",
        "Adım 5: j -= 1 ile j = 1 olur.\n",
        "\n",
        "Adım 6: dizi[j] = 64\n",
        "\n",
        "Adım 7: 1 < 64, bu yüzden dizi[j + 1] = dizi[j] olur:\n",
        "\n",
        "Dizi: [34, 64, 64, 90]\n",
        "\n",
        "Adım 8: j -= 1 ile j = 0 olur.\n",
        "\n",
        "Adım 9: dizi[j] = 34\n",
        "\n",
        "Adım 10: 1 < 34, bu yüzden dizi[j + 1] = dizi[j] olur:\n",
        "\n",
        "Dizi: [34, 34, 64, 90]\n",
        "\n",
        "Adım 11: j -= 1 ile j = -1 olur, döngü biter.\n",
        "\n",
        "Adım 12: dizi[j + 1] = degisken olur, 1 doğru yerine yerleştirilir:\n",
        "\n",
        "Dizi: [1, 34, 64, 90]\n",
        "\n",
        "Dizinin son hali -> [1, 34, 64, 90]."
      ],
      "metadata": {
        "id": "UI3EV3sMZhNY"
      }
    },
    {
      "cell_type": "code",
      "source": [
        "# Su veri seti üzerinde sıralama algoritmasının uygulanması örneği:\n",
        "\n",
        "import pandas as pd\n",
        "\n",
        "# Veri setini okuyalım\n",
        "file_path = '/content/drive/My Drive/VERIYAPILARI_ISTKA/algveriseti/ilcesuveriseti.csv'\n",
        "df = pd.read_csv(file_path, sep=';')\n",
        "\n",
        "# Veri setinin ilk birkaç satırına göz atalım\n",
        "print(df.head())\n",
        "\n",
        "# Selection Sort Uygulaması\n",
        "def selection_sort(arr):\n",
        "    n = len(arr)\n",
        "    for i in range(n):\n",
        "        min_idx = i\n",
        "        for j in range(i+1, n):\n",
        "            if arr[j][1] < arr[min_idx][1]:\n",
        "                min_idx = j\n",
        "        # Sadece elemanları sıralamak için değil, aynı zamanda ilçe isimlerini de yer değiştirmeliyiz\n",
        "        arr[i][1], arr[min_idx][1] = arr[min_idx][1], arr[i][1]  # Su tüketimi sıralama\n",
        "        arr[i][0], arr[min_idx][0] = arr[min_idx][0], arr[i][0]  # İlçe isimlerini de sıralama\n",
        "    return arr\n",
        "\n",
        "# 2022 yılı verileri üzerinde Selection Sort uygulayalım\n",
        "df_selection_sort = df[['ILCELER', '2022']].copy()\n",
        "df_selection_sort['2022'] = df_selection_sort['2022'].str.replace('.', '').astype(int)\n",
        "df_selection_sort = df_selection_sort.to_numpy()\n",
        "sorted_selection = selection_sort(df_selection_sort)\n",
        "sorted_selection_df = pd.DataFrame(sorted_selection, columns=['ILCELER', '2022'])\n",
        "\n",
        "# Sıralanmış veri çerçevesini ekrana yazdıralım\n",
        "print(sorted_selection_df)"
      ],
      "metadata": {
        "colab": {
          "base_uri": "https://localhost:8080/"
        },
        "id": "MXUc79iNKLuM",
        "outputId": "57091512-c7d6-4938-e9e5-f2be676aa455"
      },
      "execution_count": null,
      "outputs": [
        {
          "output_type": "stream",
          "name": "stdout",
          "text": [
            "   ID       ILCELER        2015        2016        2017        2018  \\\n",
            "0   1        ADALAR   1.432.494   1.472.276   1.366.581   1.399.182   \n",
            "1   2    ARNAVUTKOY   8.002.123   9.178.953  10.176.132  11.404.878   \n",
            "2   3      ATASEHIR  18.597.049  19.974.097  21.205.911  21.496.185   \n",
            "3   4       AVCILAR  16.220.476  17.052.253  17.558.403  18.312.736   \n",
            "4   5  BUYUKCEKMECE   9.915.435  10.788.924  11.172.787  12.222.470   \n",
            "\n",
            "         2019        2020        2021        2022  \n",
            "0   1.371.291   1.513.070   1.435.991   1.543.403  \n",
            "1  13.818.204  15.570.466  17.102.127  18.891.299  \n",
            "2  22.428.468  23.737.630  24.281.319  24.377.611  \n",
            "3  19.485.453  20.824.893  20.690.506  21.556.002  \n",
            "4  13.606.571  16.015.731  16.167.480  17.412.198  \n",
            "         ILCELER      2022\n",
            "0         ADALAR   1543403\n",
            "1           SILE   4247815\n",
            "2        CATALCA   4961608\n",
            "3        SILIVRI  13216660\n",
            "4     BAYRAMPASA  14188089\n",
            "5         BEYKOZ  14201827\n",
            "6       GUNGOREN  14305999\n",
            "7    SULTANBEYLI  14450593\n",
            "8       CEKMEKOY  14902585\n",
            "9       BAKIRKOY  15658908\n",
            "10      BESIKTAS  15995329\n",
            "11       BEYOGLU  16331938\n",
            "12   ZEYTINBURNU  16887563\n",
            "13  BUYUKCEKMECE  17412198\n",
            "14    ARNAVUTKOY  18891299\n",
            "15       ESENLER  20316717\n",
            "16         SISLI  20376715\n",
            "17       AVCILAR  21556002\n",
            "18           GOP  21711282\n",
            "19    SANCAKTEPE  21957759\n",
            "20    EYUPSULTAN  22896218\n",
            "21    BEYLIKDUZU  22961265\n",
            "22     KAGITHANE  23152747\n",
            "23    SALTANGAZI  24147507\n",
            "24      ATASEHIR  24377611\n",
            "25         TUZLA  24758012\n",
            "26       SARIYER  25503566\n",
            "27        KARTAL  25696738\n",
            "28       MALTEPE  27824535\n",
            "29         FATIH  28078147\n",
            "30  BAHCELIEVLER  29152163\n",
            "31       USKUDAR  29904256\n",
            "32       KADIKOY  30933432\n",
            "33    BASAKSEHIR  31722402\n",
            "34      BAGCILAR  35848593\n",
            "35      UMRANIYE  37618657\n",
            "36        PENDIK  38555916\n",
            "37  KUCUKCEKMECE  38832413\n",
            "38      ESENYURT  52836878\n"
          ]
        }
      ]
    }
  ]
}