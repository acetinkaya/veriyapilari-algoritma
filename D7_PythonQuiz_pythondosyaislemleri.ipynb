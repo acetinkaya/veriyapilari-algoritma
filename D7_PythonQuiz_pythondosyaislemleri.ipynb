{
  "nbformat": 4,
  "nbformat_minor": 0,
  "metadata": {
    "colab": {
      "provenance": []
    },
    "kernelspec": {
      "name": "python3",
      "display_name": "Python 3"
    },
    "language_info": {
      "name": "python"
    }
  },
  "cells": [
    {
      "cell_type": "code",
      "execution_count": 1,
      "metadata": {
        "id": "EfxKW7fgggMc",
        "colab": {
          "base_uri": "https://localhost:8080/"
        },
        "outputId": "de947418-86c4-430c-899d-7837c486e83c"
      },
      "outputs": [
        {
          "output_type": "stream",
          "name": "stdout",
          "text": [
            "Merhaba, Veri Yapıları & Algoritma / Ders 7\n"
          ]
        }
      ],
      "source": [
        "print(\"Merhaba, Veri Yapıları & Algoritma / Ders 7\") # print ekrana çıktı veren bir koddur."
      ]
    },
    {
      "cell_type": "code",
      "source": [
        "import sys # import python programlama dilinde yazılıma kütüphane eklemeye yarayan bir kod blogudur.\n",
        "print(sys.version)"
      ],
      "metadata": {
        "id": "KQ5OfwrfguPW",
        "colab": {
          "base_uri": "https://localhost:8080/"
        },
        "outputId": "a9e90527-6c9b-422e-97fe-545cc627970d"
      },
      "execution_count": 2,
      "outputs": [
        {
          "output_type": "stream",
          "name": "stdout",
          "text": [
            "3.10.12 (main, Sep 11 2024, 15:47:36) [GCC 11.4.0]\n"
          ]
        }
      ]
    },
    {
      "cell_type": "code",
      "source": [
        "from google.colab import drive # google colab - drive bağlantısı\n",
        "\n",
        "drive.mount('/content/drive')"
      ],
      "metadata": {
        "id": "ZONtsQb2gzQE",
        "colab": {
          "base_uri": "https://localhost:8080/"
        },
        "outputId": "040a3bf0-4eec-4925-99b1-a1852a4eedfd"
      },
      "execution_count": 3,
      "outputs": [
        {
          "output_type": "stream",
          "name": "stdout",
          "text": [
            "Mounted at /content/drive\n"
          ]
        }
      ]
    },
    {
      "cell_type": "code",
      "source": [
        "import os\n",
        "\n",
        "os.chdir('/content/drive/My Drive/VERIYAPILARI_PYTHON')\n",
        "\n",
        "!pwd # bize kodun çıktısını dosya yolu olarak veren kod blogudur."
      ],
      "metadata": {
        "id": "vTwXKpPJg0mk",
        "colab": {
          "base_uri": "https://localhost:8080/"
        },
        "outputId": "2ed2a54f-3f4e-4a92-de2a-7cbddeeb4044"
      },
      "execution_count": 4,
      "outputs": [
        {
          "output_type": "stream",
          "name": "stdout",
          "text": [
            "/content/drive/My Drive/VERIYAPILARI_PYTHON\n"
          ]
        }
      ]
    },
    {
      "cell_type": "markdown",
      "source": [
        "QUIZ 1- Kullanıcıdan alınan kısa ve uzun kenar değerlerine göre dikdörtgenin alanını hesaplayan bir algoritmanın geliştirilmesi"
      ],
      "metadata": {
        "id": "zXH7xdvcd2HD"
      }
    },
    {
      "cell_type": "code",
      "source": [
        "# Kullanıcıdan kısa kenar değerini al\n",
        "while True:\n",
        "    try:\n",
        "        kenar1 = int(input(\"Kzun Kenar Degerini Girin \"))\n",
        "        if kenar1 < 0:\n",
        "            kenar1 = abs(kenar1)\n",
        "            print(f\"Negatif değer girdiniz, pozitif olarak alındı: {kenar1}\")\n",
        "        break\n",
        "    except ValueError:\n",
        "        print(\"Lütfen geçerli bir tam sayı girin.\")\n",
        "\n",
        "# Kullanıcıdan uzun kenar değerini al\n",
        "while True:\n",
        "    try:\n",
        "        kenar2 = int(input(\"Uzun Kenar Degerini Girin: \"))\n",
        "        if kenar2 < 0:\n",
        "            kenar2 = abs(kenar2)\n",
        "            print(f\"Negatif değer girdiniz, pozitif olarak alındı: {kenar2}\")\n",
        "        break\n",
        "    except ValueError:\n",
        "        print(\"Lütfen geçerli bir tam sayı girin.\")\n",
        "\n",
        "\n",
        "def dikdortgen_alani(kenar1, kenar2):\n",
        "    return kenar1 * kenar2\n",
        "\n",
        "alan = dikdortgen_alani(kenar1, kenar2)\n",
        "print(\"Kenarları \", kenar1 , \" ve \", kenar2 , \" olan dikdörtgenin alanı: \", alan)"
      ],
      "metadata": {
        "colab": {
          "base_uri": "https://localhost:8080/"
        },
        "id": "1NcDnieLcLmu",
        "outputId": "79886ba5-ac1f-458d-cc6d-dd6b86fe63a0"
      },
      "execution_count": null,
      "outputs": [
        {
          "output_type": "stream",
          "name": "stdout",
          "text": [
            "Kzun Kenar Degerini Girin 4\n",
            "Uzun Kenar Degerini Girin: 8\n",
            "Kenarları  4  ve  8  olan dikdörtgenin alanı:  32\n"
          ]
        }
      ]
    },
    {
      "cell_type": "markdown",
      "source": [
        "QUIZ 2- 1 ile 100 arasındaki sayılardan 12'ye bölünenleri bulan Python kodu\n"
      ],
      "metadata": {
        "id": "B-m9MdX8423G"
      }
    },
    {
      "cell_type": "code",
      "source": [
        "Sayi_dizisi = []\n",
        "sayi = 1\n",
        "\n",
        "while sayi <= 175:\n",
        "    if sayi % 12 == 0:\n",
        "        Sayi_dizisi.append(sayi)\n",
        "    sayi += 1\n",
        "\n",
        "# Sonucu ekrana yazdır\n",
        "print(\"1 ile 100 arasındaki 12'ye bölünen sayılar:\", Sayi_dizisi)\n",
        "print(\"Toplam sayı adeti: \", len(Sayi_dizisi))"
      ],
      "metadata": {
        "id": "kuKubeTWg2Ur",
        "colab": {
          "base_uri": "https://localhost:8080/"
        },
        "outputId": "6e6465f7-04b1-4ae4-9dc5-544a37928dec"
      },
      "execution_count": null,
      "outputs": [
        {
          "output_type": "stream",
          "name": "stdout",
          "text": [
            "1 ile 100 arasındaki 12'ye bölünen sayılar: [12, 24, 36, 48, 60, 72, 84, 96, 108, 120, 132, 144, 156, 168]\n",
            "Toplam sayı adeti:  14\n"
          ]
        }
      ]
    },
    {
      "cell_type": "markdown",
      "source": [
        "PYTHON PROGRAMLAMA DİLİNDE DOSYA İŞLEMLERİ\n",
        "\n",
        "Python programlama dilinde dosya işlemleri; dosyaların okunması, yazılması, güncellenmesi ve kapatılması gibi işlemleri kapsamaktadır. Dosya işlemleri, genellikle dosyaların içeriğini almak, bilgi üzerinde işlem yapabilmek veya yeni dosyalar oluşturmak için kullanılır.\n",
        "\n",
        "PYTHON programlama dili üzerindeki dosya işlemleri bağlamında Yapay Zeka (YZ) çalışmaları noktasında veri setlerini ele aldık. Veri yapıları ve Algoritmalar'ın sonucu olarak yapay zeka çalışmaları ele alacağız. Doğru veri yapısı için bu bağlamda yapay zeka uygulamaları için veri setlerinin önemi:\n",
        "\n",
        "1. Modelin Doğruluğu\n",
        "2. Geniş Kapsamlı bir genelleme\n",
        "3. Performans\n",
        "4. Modilin başarısı için verilerin doğruluğu çok önemlidir.\n",
        "\n",
        "Dersin devamı https://github.com/acetinkaya/veriyapilari-algoritma linki üzerinde [Bölüm 3.3.](https://github.com/acetinkaya/veriyapilari-algoritma?tab=readme-ov-file#b%C3%B6l%C3%BCm-3---python-dosya-i%CC%87%C5%9Flemleri) den devam edecektir.  \n"
      ],
      "metadata": {
        "id": "tHAumwc7r8sf"
      }
    },
    {
      "cell_type": "code",
      "source": [
        "import pandas as pd\n",
        "\n",
        "VeriSetiYolu = '/content/drive/My Drive/VERIYAPILARI_ISTKA/veriseti'\n",
        "\n",
        "for file in os.listdir(VeriSetiYolu):                         # Klasördeki tüm dosyaları listele\n",
        "\n",
        "    if file.endswith(('.xlsx', '.xls')):                     # Sadece Excel dosyalarını seç\n",
        "\n",
        "        df = pd.read_excel(os.path.join(VeriSetiYolu, file))  # Excel dosyasını pandas ile oku\n",
        "\n",
        "        df.to_csv(os.path.join(VeriSetiYolu, file.rsplit('.', 1)[0] + '.csv'), index=False)\n",
        "                                                               # DataFrame'i CSV formatında kaydet\n",
        "        print(f\"{file} dosyası CSV formatına çevrildi.\")     # Çevrim İşlemi Çıktısı\n",
        "\n",
        "# İşlem tamamlandığında kaç tane excel dosyası var ise o kadar *.csv formatına çevildiğinin\n",
        "# bilgisini almaktayız"
      ],
      "metadata": {
        "colab": {
          "base_uri": "https://localhost:8080/"
        },
        "id": "EKv4DBVjab_I",
        "outputId": "38ff9e9a-3802-44c3-fd05-86cd56284afb"
      },
      "execution_count": null,
      "outputs": [
        {
          "output_type": "stream",
          "name": "stdout",
          "text": [
            "atktan-geri-kazanm-miktarlar.xlsx dosyası CSV formatına çevrildi.\n"
          ]
        }
      ]
    },
    {
      "cell_type": "code",
      "source": [
        "import os\n",
        "import pandas as pd\n",
        "\n",
        "VeriSetiYolu = '/content/drive/My Drive/VERIYAPILARI_ISTKA/veriseti'\n",
        "\n",
        "# VeriSetiYolu içindeki .csv dosyalarını bul ve say\n",
        "csv_dosyalari = [dosya for dosya in os.listdir(VeriSetiYolu) if dosya.endswith('.csv')]\n",
        "\n",
        "# .csv dosya sayısını ekrana yazdır\n",
        "csv_dosya_sayisi = len(csv_dosyalari)\n",
        "print(f\"VeriSetiYolu içerisinde {csv_dosyalari} tane .csv dosyası bulunuyor.\")\n",
        "\n",
        "# Mevcut *.csv uzantılı dosyaların isimlerini getiriyoruz.\n",
        "print(\"Bulunan CSV Dosyaları:\")\n",
        "for dosya in csv_dosyalari:\n",
        "    print(dosya)"
      ],
      "metadata": {
        "colab": {
          "base_uri": "https://localhost:8080/"
        },
        "id": "YHyUrgbbZpjT",
        "outputId": "06e7a324-31d5-43e1-bd2a-6207a35482b1"
      },
      "execution_count": null,
      "outputs": [
        {
          "output_type": "stream",
          "name": "stdout",
          "text": [
            "VeriSetiYolu içerisinde ['atiktangerikazanimmiktari.csv', 'atktan-geri-kazanm-miktarlar.csv'] tane .csv dosyası bulunuyor.\n",
            "Bulunan CSV Dosyaları:\n",
            "atiktangerikazanimmiktari.csv\n",
            "atktan-geri-kazanm-miktarlar.csv\n"
          ]
        }
      ]
    }
  ]
}