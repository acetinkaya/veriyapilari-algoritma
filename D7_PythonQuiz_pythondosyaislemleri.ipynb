{
  "nbformat": 4,
  "nbformat_minor": 0,
  "metadata": {
    "colab": {
      "provenance": []
    },
    "kernelspec": {
      "name": "python3",
      "display_name": "Python 3"
    },
    "language_info": {
      "name": "python"
    }
  },
  "cells": [
    {
      "cell_type": "code",
      "execution_count": null,
      "metadata": {
        "id": "EfxKW7fgggMc",
        "colab": {
          "base_uri": "https://localhost:8080/"
        },
        "outputId": "2343d0cb-75f2-4951-9657-80e3255f9bf4"
      },
      "outputs": [
        {
          "output_type": "stream",
          "name": "stdout",
          "text": [
            "Merhaba, İGÜ - İSTKA / Ders 7\n"
          ]
        }
      ],
      "source": [
        "print(\"Merhaba, İGÜ - İSTKA / Ders 7\") # print ekrana çıktı veren bir koddur."
      ]
    },
    {
      "cell_type": "code",
      "source": [
        "import sys # import python programlama dilinde yazılıma kütüphane eklemeye yarayan bir kod blogudur.\n",
        "print(sys.version)"
      ],
      "metadata": {
        "id": "KQ5OfwrfguPW",
        "colab": {
          "base_uri": "https://localhost:8080/"
        },
        "outputId": "ef72348b-157f-479b-f5bd-481af079b9d0"
      },
      "execution_count": null,
      "outputs": [
        {
          "output_type": "stream",
          "name": "stdout",
          "text": [
            "3.10.12 (main, Jul 29 2024, 16:56:48) [GCC 11.4.0]\n"
          ]
        }
      ]
    },
    {
      "cell_type": "code",
      "source": [
        "from google.colab import drive # google colab - drive bağlantısı\n",
        "\n",
        "drive.mount('/content/drive')"
      ],
      "metadata": {
        "id": "ZONtsQb2gzQE",
        "colab": {
          "base_uri": "https://localhost:8080/"
        },
        "outputId": "ac61b549-bc4b-4d0e-e270-ea51500654cd"
      },
      "execution_count": null,
      "outputs": [
        {
          "output_type": "stream",
          "name": "stdout",
          "text": [
            "Mounted at /content/drive\n"
          ]
        }
      ]
    },
    {
      "cell_type": "code",
      "source": [
        "import os\n",
        "\n",
        "os.chdir('/content/drive/My Drive/VERIYAPILARI_ISTKA')\n",
        "\n",
        "!pwd # bize kodun çıktısını dosya yolu olarak veren kod blogudur."
      ],
      "metadata": {
        "id": "vTwXKpPJg0mk",
        "colab": {
          "base_uri": "https://localhost:8080/"
        },
        "outputId": "1eb462ba-0a4a-4fca-9a99-d0f9c6d90f4b"
      },
      "execution_count": null,
      "outputs": [
        {
          "output_type": "stream",
          "name": "stdout",
          "text": [
            "/content/drive/My Drive/VERIYAPILARI_ISTKA\n"
          ]
        }
      ]
    },
    {
      "cell_type": "markdown",
      "source": [
        "QUIZ 1- Kullanıcıdan alınan kısa ve uzun kenar değerlerine göre dikdörtgenin alanını hesaplayan bir algoritmanın geliştirilmesi"
      ],
      "metadata": {
        "id": "zXH7xdvcd2HD"
      }
    },
    {
      "cell_type": "code",
      "source": [
        "# Kullanıcıdan kısa kenar değerini al\n",
        "while True:\n",
        "    try:\n",
        "        kenar1 = int(input(\"Kzun Kenar Degerini Girin \"))\n",
        "        if kenar1 < 0:\n",
        "            kenar1 = abs(kenar1)\n",
        "            print(f\"Negatif değer girdiniz, pozitif olarak alındı: {kenar1}\")\n",
        "        break\n",
        "    except ValueError:\n",
        "        print(\"Lütfen geçerli bir tam sayı girin.\")\n",
        "\n",
        "# Kullanıcıdan uzun kenar değerini al\n",
        "while True:\n",
        "    try:\n",
        "        kenar2 = int(input(\"Uzun Kenar Degerini Girin: \"))\n",
        "        if kenar2 < 0:\n",
        "            kenar2 = abs(kenar2)\n",
        "            print(f\"Negatif değer girdiniz, pozitif olarak alındı: {kenar2}\")\n",
        "        break\n",
        "    except ValueError:\n",
        "        print(\"Lütfen geçerli bir tam sayı girin.\")\n",
        "\n",
        "\n",
        "def dikdortgen_alani(kenar1, kenar2):\n",
        "    return kenar1 * kenar2\n",
        "\n",
        "alan = dikdortgen_alani(kenar1, kenar2)\n",
        "print(\"Kenarları \", kenar1 , \" ve \", kenar2 , \" olan dikdörtgenin alanı: \", alan)"
      ],
      "metadata": {
        "colab": {
          "base_uri": "https://localhost:8080/"
        },
        "id": "1NcDnieLcLmu",
        "outputId": "888ef4d4-468f-4977-87c2-af5dde1f7095"
      },
      "execution_count": null,
      "outputs": [
        {
          "output_type": "stream",
          "name": "stdout",
          "text": [
            "Kzun Kenar Degerini Girin 5\n",
            "Uzun Kenar Degerini Girin: -10\n",
            "Negatif değer girdiniz, pozitif olarak alındı: 10\n",
            "Kenarları  5  ve  10  olan dikdörtgenin alanı:  50\n"
          ]
        }
      ]
    },
    {
      "cell_type": "markdown",
      "source": [
        "QUIZ 2- 1 ile 100 arasındaki sayılardan 12'ye bölünenleri bulan Python kodu\n"
      ],
      "metadata": {
        "id": "B-m9MdX8423G"
      }
    },
    {
      "cell_type": "code",
      "source": [
        "Sayi_dizisi = []\n",
        "sayi = 1\n",
        "\n",
        "while sayi <= 175:\n",
        "    if sayi % 12 == 0:\n",
        "        Sayi_dizisi.append(sayi)\n",
        "    sayi += 1\n",
        "\n",
        "# Sonucu ekrana yazdır\n",
        "print(\"1 ile 100 arasındaki 12'ye bölünen sayılar:\", Sayi_dizisi)\n",
        "print(\"Toplam sayı adeti: \", len(Sayi_dizisi))"
      ],
      "metadata": {
        "id": "kuKubeTWg2Ur",
        "colab": {
          "base_uri": "https://localhost:8080/"
        },
        "outputId": "d056a515-f2cc-4ea5-ce3c-83a646bf7182"
      },
      "execution_count": null,
      "outputs": [
        {
          "output_type": "stream",
          "name": "stdout",
          "text": [
            "1 ile 100 arasındaki 12'ye bölünen sayılar: [13, 26, 39, 52, 65, 78, 91, 104, 117, 130, 143, 156, 169]\n",
            "Toplam sayı adeti:  13\n"
          ]
        }
      ]
    },
    {
      "cell_type": "markdown",
      "source": [
        "PYTHON PROGRAMLAMA DİLİNDE DOSYA İŞLEMLERİ\n",
        "\n",
        "Python programlama dilinde dosya işlemleri; dosyaların okunması, yazılması, güncellenmesi ve kapatılması gibi işlemleri kapsamaktadır. Dosya işlemleri, genellikle dosyaların içeriğini almak, bilgi üzerinde işlem yapabilmek veya yeni dosyalar oluşturmak için kullanılır.\n",
        "\n",
        "PYTHON programlama dili üzerindeki dosya işlemleri bağlamında Yapay Zeka (YZ) çalışmaları noktasında veri setlerini ele aldık. Veri yapıları ve Algoritmalar'ın sonucu olarak yapay zeka çalışmaları ele alacağız. Doğru veri yapısı için bu bağlamda yapay zeka uygulamaları için veri setlerinin önemi:\n",
        "\n",
        "1. Modelin Doğruluğu\n",
        "2. Geniş Kapsamlı bir genelleme\n",
        "3. Performans\n",
        "4. Modilin başarısı için verilerin doğruluğu çok önemlidir.\n",
        "\n",
        "Dersin devamı https://github.com/acetinkaya/veriyapilari-algoritma linki üzerinde [Bölüm 3.3.](https://github.com/acetinkaya/veriyapilari-algoritma?tab=readme-ov-file#b%C3%B6l%C3%BCm-3---python-dosya-i%CC%87%C5%9Flemleri) den devam edecektir.  \n"
      ],
      "metadata": {
        "id": "tHAumwc7r8sf"
      }
    },
    {
      "cell_type": "code",
      "source": [
        "import pandas as pd\n",
        "\n",
        "VeriSetiYolu = '/content/drive/My Drive/VERIYAPILARI_ISTKA/veriseti'\n",
        "\n",
        "for file in os.listdir(VeriSetiYolu):                         # Klasördeki tüm dosyaları listele\n",
        "\n",
        "    if file.endswith(('.xlsx', '.xls')):                     # Sadece Excel dosyalarını seç\n",
        "\n",
        "        df = pd.read_excel(os.path.join(VeriSetiYolu, file))  # Excel dosyasını pandas ile oku\n",
        "\n",
        "        df.to_csv(os.path.join(VeriSetiYolu, file.rsplit('.', 1)[0] + '.csv'), index=False)\n",
        "                                                               # DataFrame'i CSV formatında kaydet\n",
        "        print(f\"{file} dosyası CSV formatına çevrildi.\")     # Çevrim İşlemi Çıktısı\n",
        "\n",
        "# İşlem tamamlandığında kaç tane excel dosyası var ise o kadar *.csv formatına çevildiğinin\n",
        "# bilgisini almaktayız"
      ],
      "metadata": {
        "colab": {
          "base_uri": "https://localhost:8080/"
        },
        "id": "EKv4DBVjab_I",
        "outputId": "96760476-1fd6-4444-be72-39409d026d60"
      },
      "execution_count": null,
      "outputs": [
        {
          "output_type": "stream",
          "name": "stdout",
          "text": [
            "atktan-geri-kazanm-miktarlar.xlsx dosyası CSV formatına çevrildi.\n"
          ]
        }
      ]
    },
    {
      "cell_type": "code",
      "source": [
        "import os\n",
        "import pandas as pd\n",
        "\n",
        "VeriSetiYolu = '/content/drive/My Drive/VERIYAPILARI_ISTKA/veriseti'\n",
        "\n",
        "# VeriSetiYolu içindeki .csv dosyalarını bul ve say\n",
        "csv_dosyaları = [dosya for dosya in os.listdir(VeriSetiYolu) if dosya.endswith('.csv')]\n",
        "\n",
        "# .csv dosya sayısını ekrana yazdır\n",
        "csv_dosya_sayisi = len(csv_dosyaları)\n",
        "print(f\"VeriSetiYolu içerisinde {csv_dosya_sayisi} tane .csv dosyası bulunuyor.\")"
      ],
      "metadata": {
        "colab": {
          "base_uri": "https://localhost:8080/"
        },
        "id": "YHyUrgbbZpjT",
        "outputId": "7d676df4-f285-470d-d47f-4c31c3ba2c17"
      },
      "execution_count": null,
      "outputs": [
        {
          "output_type": "stream",
          "name": "stdout",
          "text": [
            "VeriSetiYolu içerisinde 2 tane .csv dosyası bulunuyor.\n"
          ]
        }
      ]
    }
  ]
}