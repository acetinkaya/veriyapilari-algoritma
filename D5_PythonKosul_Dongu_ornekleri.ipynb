{
  "nbformat": 4,
  "nbformat_minor": 0,
  "metadata": {
    "colab": {
      "provenance": []
    },
    "kernelspec": {
      "name": "python3",
      "display_name": "Python 3"
    },
    "language_info": {
      "name": "python"
    }
  },
  "cells": [
    {
      "cell_type": "code",
      "execution_count": 1,
      "metadata": {
        "id": "EfxKW7fgggMc",
        "colab": {
          "base_uri": "https://localhost:8080/"
        },
        "outputId": "65fc3553-dac3-4a22-e7fb-4e4221ca4194"
      },
      "outputs": [
        {
          "output_type": "stream",
          "name": "stdout",
          "text": [
            "Merhaba, İGÜ - İSTKA / Ders 6\n"
          ]
        }
      ],
      "source": [
        "print(\"Merhaba, İGÜ - İSTKA / Ders 6\") # print ekrana çıktı veren bir koddur."
      ]
    },
    {
      "cell_type": "code",
      "source": [
        "import sys # import python programlama dilinde yazılıma kütüphane eklemeye yarayan bir kod blogudur.\n",
        "print(sys.version)"
      ],
      "metadata": {
        "id": "KQ5OfwrfguPW",
        "colab": {
          "base_uri": "https://localhost:8080/"
        },
        "outputId": "b8e3aacf-d76c-4ba3-e9a4-008dea425107"
      },
      "execution_count": 2,
      "outputs": [
        {
          "output_type": "stream",
          "name": "stdout",
          "text": [
            "3.10.12 (main, Jul 29 2024, 16:56:48) [GCC 11.4.0]\n"
          ]
        }
      ]
    },
    {
      "cell_type": "code",
      "source": [
        "from google.colab import drive # google colab - drive bağlantısı\n",
        "\n",
        "drive.mount('/content/drive')"
      ],
      "metadata": {
        "id": "ZONtsQb2gzQE",
        "colab": {
          "base_uri": "https://localhost:8080/"
        },
        "outputId": "765b70cb-0c23-4be8-c274-6a2853d1886a"
      },
      "execution_count": 3,
      "outputs": [
        {
          "output_type": "stream",
          "name": "stdout",
          "text": [
            "Mounted at /content/drive\n"
          ]
        }
      ]
    },
    {
      "cell_type": "code",
      "source": [
        "import os\n",
        "\n",
        "os.chdir('/content/drive/My Drive/VERIYAPILARI_ISTKA')\n",
        "\n",
        "!pwd # bize kodun çıktısını dosya yolu olarak veren kod blogudur."
      ],
      "metadata": {
        "id": "vTwXKpPJg0mk",
        "colab": {
          "base_uri": "https://localhost:8080/"
        },
        "outputId": "d803f388-46bd-446c-ba35-a0455bb70c02"
      },
      "execution_count": 4,
      "outputs": [
        {
          "output_type": "stream",
          "name": "stdout",
          "text": [
            "/content/drive/My Drive/VERIYAPILARI_ISTKA\n"
          ]
        }
      ]
    },
    {
      "cell_type": "code",
      "source": [
        "# 1 ile 100 arasındaki sayılardan 7'ye bölünenleri bulan Python kodu\n",
        "Sayi_dizisi = []\n",
        "sayi = 1\n",
        "\n",
        "while sayi <= 100:\n",
        "    if sayi % 7 == 0:\n",
        "        Sayi_dizisi.append(sayi)\n",
        "    sayi += 1\n",
        "\n",
        "# Sonucu ekrana yazdır\n",
        "print(\"1 ile 100 arasındaki 7'ye bölünen sayılar:\", Sayi_dizisi)\n",
        "print(\"Toplam sayı adeti: \", len(Sayi_dizisi))"
      ],
      "metadata": {
        "colab": {
          "base_uri": "https://localhost:8080/"
        },
        "id": "cyUFAILepYjv",
        "outputId": "4cc6daa2-f97c-4d84-87bf-529384d725d0"
      },
      "execution_count": 5,
      "outputs": [
        {
          "output_type": "stream",
          "name": "stdout",
          "text": [
            "1 ile 100 arasındaki 7'ye bölünen sayılar: [7, 14, 21, 28, 35, 42, 49, 56, 63, 70, 77, 84, 91, 98]\n",
            "Toplam sayı adeti:  14\n"
          ]
        }
      ]
    },
    {
      "cell_type": "code",
      "source": [
        "# Girilen iki kodun hangisinin büyük olduğunu bulan ve sayı dışında girilen karakterin hatalı olduğu bildiren kod blogudur.\n",
        "\n",
        "while True:\n",
        "    try:\n",
        "        gelen1 = float(input(\"Birinci sayıyı girin: \"))\n",
        "        gelen2 = float(input(\"İkinci sayıyı girin: \"))\n",
        "\n",
        "        if gelen1 > gelen2:\n",
        "            print(\"İlk sayı büyüktür\")\n",
        "        elif gelen1 < gelen2:\n",
        "            print(\"İkinci sayı büyüktür\")\n",
        "        else:\n",
        "            print(\"Sayilar birbirine eşittir\")\n",
        "\n",
        "        break\n",
        "    except ValueError:\n",
        "        print(\"Lütfen geçerli bir sayı girin.\")"
      ],
      "metadata": {
        "id": "kuKubeTWg2Ur",
        "colab": {
          "base_uri": "https://localhost:8080/"
        },
        "outputId": "87ca78b8-8142-4af2-cc28-bab18a1fdc31"
      },
      "execution_count": 6,
      "outputs": [
        {
          "output_type": "stream",
          "name": "stdout",
          "text": [
            "Birinci sayıyı girin: 1\n",
            "İkinci sayıyı girin: 4\n",
            "İkinci sayı büyüktür\n"
          ]
        }
      ]
    },
    {
      "cell_type": "code",
      "source": [
        "# Kullanıcıdan alınan sayıya kadar 1'den başlayarak faktöreyel hesabının yapılmasıdır.\n",
        "\n",
        "while True:\n",
        "    try:\n",
        "        sayi = int(input(\"Bir sayı girin: \"))\n",
        "        if sayi < 0:\n",
        "            print(\"Negatif sayıların faktöriyeli hesaplanamaz.\")\n",
        "        elif sayi == 0 or sayi == 1:\n",
        "            print(1)\n",
        "        else:\n",
        "            sonuc = 1\n",
        "            while sayi > 1:\n",
        "                sonuc *= sayi\n",
        "                sayi -= 1\n",
        "            print(sonuc)\n",
        "        break\n",
        "    except ValueError:\n",
        "        print(\"Lütfen geçerli bir tam sayı girin.\")"
      ],
      "metadata": {
        "colab": {
          "base_uri": "https://localhost:8080/"
        },
        "id": "W1FiPiJ_oX6b",
        "outputId": "18aa47d6-b0ee-4525-b4b6-44d043137f17"
      },
      "execution_count": 7,
      "outputs": [
        {
          "output_type": "stream",
          "name": "stdout",
          "text": [
            "Bir sayı girin: -10\n",
            "Negatif sayıların faktöriyeli hesaplanamaz.\n"
          ]
        }
      ]
    },
    {
      "cell_type": "markdown",
      "source": [
        "Kullanıcıdan başlangıç ve bitiş değerlerini alarak, bu değerler arasındaki çift sayıları bulan ve bu çift sayıların toplamını hesaplayan bir Python programı yazınız."
      ],
      "metadata": {
        "id": "p-E0fur_u3zU"
      }
    },
    {
      "cell_type": "code",
      "source": [
        "# Kullanıcıdan başlangıç değeri al\n",
        "while True:\n",
        "    try:\n",
        "        baslangic_degeri = int(input(\"Başlangıç değerini girin: \"))\n",
        "        if baslangic_degeri < 0:\n",
        "            baslangic_degeri = abs(baslangic_degeri)\n",
        "            print(f\"Negatif değer girdiniz, pozitif olarak alındı: {baslangic_degeri}\")\n",
        "        break\n",
        "    except ValueError:\n",
        "        print(\"Lütfen geçerli bir tam sayı girin.\")\n",
        "\n",
        "# Kullanıcıdan son değer al\n",
        "while True:\n",
        "    try:\n",
        "        bitis_degeri = int(input(\"Bitiş değerini girin: \"))\n",
        "        if bitis_degeri < 0:\n",
        "            bitis_degeri = abs(bitis_degeri)\n",
        "            print(f\"Negatif değer girdiniz, pozitif olarak alındı: {bitis_degeri}\")\n",
        "        break\n",
        "    except ValueError:\n",
        "        print(\"Lütfen geçerli bir tam sayı girin.\")\n",
        "\n",
        "# Başlangıç ve bitiş değerleri arasında çift sayıları bul ve topla\n",
        "cift_sayilar = []\n",
        "cift_sayilarin_toplami = 0\n",
        "sayi = baslangic_degeri\n",
        "\n",
        "while sayi <= bitis_degeri:\n",
        "    if sayi % 2 == 0:\n",
        "        cift_sayilar.append(sayi)\n",
        "        cift_sayilarin_toplami += sayi\n",
        "    sayi += 1\n",
        "\n",
        "# Elde edilen çift sayıları ve toplamlarını ekrana yazdır\n",
        "print(f\"{baslangic_degeri} ile {bitis_degeri} arasındaki çift sayılar:\")\n",
        "for num in cift_sayilar:\n",
        "    print(num, end=\" \")\n",
        "\n",
        "print(f\"\\nÇift sayıların toplamı: {cift_sayilarin_toplami}\")"
      ],
      "metadata": {
        "colab": {
          "base_uri": "https://localhost:8080/"
        },
        "id": "6cLyNJyauM6e",
        "outputId": "e92c505d-b96f-4011-ad0d-ba711d238fd1"
      },
      "execution_count": 8,
      "outputs": [
        {
          "output_type": "stream",
          "name": "stdout",
          "text": [
            "Başlangıç değerini girin: 10\n",
            "Bitiş değerini girin: 50\n",
            "10 ile 50 arasındaki çift sayılar:\n",
            "10 12 14 16 18 20 22 24 26 28 30 32 34 36 38 40 42 44 46 48 50 \n",
            "Çift sayıların toplamı: 630\n"
          ]
        }
      ]
    },
    {
      "cell_type": "code",
      "source": [
        "# Önceden tanımlalan sesli harf listesinde girilen metnin karşılaştırılması yapılarak sesli ve sessiz harf kontrolünün yapımı\n",
        "sesli_harfler = 'aeıioöuüAEIİOÖUÜ'\n",
        "\n",
        "kelime = input(\"Bir kelime girin: \") # Kullanıcıdan bir kelime al\n",
        "\n",
        "# Sesli ve sessiz harf sayısını hesapla\n",
        "sesli_harf_sayisi = 0\n",
        "sessiz_harf_sayisi = 0\n",
        "\n",
        "'''\n",
        "isalpha() ile bir stringde yalnızca harf olup olmadığını kontrol etmek için kullanılır.\n",
        "\n",
        "Aşağıdaki kod blogunda geçen \"isalpha\" harf dışı bir karakter ile karşılaşınca \"false\" döndürmektedir.\n",
        "'''\n",
        "\n",
        "for harf in kelime:\n",
        "    if harf.isalpha():  # Sadece harfleri kontrol et\n",
        "        if harf in sesli_harfler:\n",
        "            sesli_harf_sayisi += 1\n",
        "        else:\n",
        "            sessiz_harf_sayisi += 1\n",
        "\n",
        "# Sonuçları ekrana yazdır\n",
        "print(kelime, \"kelimesinde\" , sesli_harf_sayisi , \"adet sesli harf ve\", sessiz_harf_sayisi, \"sessiz harf vardır.\")"
      ],
      "metadata": {
        "colab": {
          "base_uri": "https://localhost:8080/"
        },
        "id": "7sTN-3Rfvqr9",
        "outputId": "2ee420e8-aca1-463d-cc13-74f3fd1935d8"
      },
      "execution_count": 9,
      "outputs": [
        {
          "output_type": "stream",
          "name": "stdout",
          "text": [
            "Bir kelime girin: ankara\n",
            "ankara kelimesinde 3 adet sesli harf ve 3 sessiz harf vardır.\n"
          ]
        }
      ]
    }
  ]
}