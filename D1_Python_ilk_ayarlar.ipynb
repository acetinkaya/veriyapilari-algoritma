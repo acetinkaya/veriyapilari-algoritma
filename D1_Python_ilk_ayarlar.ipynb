{
  "nbformat": 4,
  "nbformat_minor": 0,
  "metadata": {
    "colab": {
      "provenance": []
    },
    "kernelspec": {
      "name": "python3",
      "display_name": "Python 3"
    },
    "language_info": {
      "name": "python"
    }
  },
  "cells": [
    {
      "cell_type": "markdown",
      "source": [
        "Veri Yapıları ve Algoritmalar dersinin Google Colab bağlantı kod bölümüdür.\n",
        "\n",
        "Bu kod ile bağlantıları sağlayıp drive dosya bölümüne bağlantı sağlanmaktadır.\n",
        "\n",
        "Python programlama dilinde;\n",
        "\n",
        "1. \"print\" komutu ekrandan kullancıya bilgi veren bir koddur.\n",
        "2. \"import\" komutu ile yazılıma kütüphane dahil etme işlemleri gerçekleştirilir.\n",
        "\n",
        "Veri Yapıları ve Algoritmalar dersi ilk kodlama çıktısıdır.\n",
        "\n",
        "İGÜ - Öğr. Gör. Ali ÇETİNKAYA - 2024"
      ],
      "metadata": {
        "id": "5ljnDFwUMWny"
      }
    },
    {
      "cell_type": "code",
      "execution_count": 1,
      "metadata": {
        "id": "PoldTsCQoxdd",
        "colab": {
          "base_uri": "https://localhost:8080/"
        },
        "outputId": "35de74ad-a570-4330-bb18-dc2d444a08af"
      },
      "outputs": [
        {
          "output_type": "stream",
          "name": "stdout",
          "text": [
            "Merhaba, İGÜ - VERİ_YAPILARI_ve_ALGORİTMALAR\n"
          ]
        }
      ],
      "source": [
        "print(\"Merhaba, İGÜ - VERİ_YAPILARI_ve_ALGORİTMALAR\") # print ekrana çıktı veren bir koddur.\n"
      ]
    },
    {
      "cell_type": "code",
      "source": [
        "import sys # import python programlama dilinde yazılıma kütüphane eklemeye yarayan bir kod blogudur.\n",
        "print(sys.version)"
      ],
      "metadata": {
        "colab": {
          "base_uri": "https://localhost:8080/"
        },
        "id": "d7AfZs8OLGcV",
        "outputId": "6c483bcb-64a6-4bab-f265-5f29c55f6cb4"
      },
      "execution_count": 2,
      "outputs": [
        {
          "output_type": "stream",
          "name": "stdout",
          "text": [
            "3.10.12 (main, Jul 29 2024, 16:56:48) [GCC 11.4.0]\n"
          ]
        }
      ]
    },
    {
      "cell_type": "code",
      "source": [
        "from google.colab import drive # google colab - drive bağlantısı\n",
        "\n",
        "drive.mount('/content/drive')"
      ],
      "metadata": {
        "colab": {
          "base_uri": "https://localhost:8080/"
        },
        "id": "JEXWTnZFLJiZ",
        "outputId": "d5131879-525c-4874-de87-554e13d76c07"
      },
      "execution_count": 4,
      "outputs": [
        {
          "output_type": "stream",
          "name": "stdout",
          "text": [
            "Mounted at /content/drive\n"
          ]
        }
      ]
    },
    {
      "cell_type": "code",
      "source": [
        "import os\n",
        "\n",
        "os.chdir('/content/drive/My Drive/VERIYAPILARI_PYTHON')\n",
        "\n",
        "!pwd # bize kodun çıktısını dosya yolu olarak veren kod blogudur."
      ],
      "metadata": {
        "colab": {
          "base_uri": "https://localhost:8080/"
        },
        "id": "z2dwzE0MMOOq",
        "outputId": "44e24e7e-c666-40a8-a6f8-474560c7991f"
      },
      "execution_count": 5,
      "outputs": [
        {
          "output_type": "stream",
          "name": "stdout",
          "text": [
            "/content/drive/My Drive/VERIYAPILARI_PYTHON\n"
          ]
        }
      ]
    }
  ]
}