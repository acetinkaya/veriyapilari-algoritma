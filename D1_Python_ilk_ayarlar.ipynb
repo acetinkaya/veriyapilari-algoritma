{
  "nbformat": 4,
  "nbformat_minor": 0,
  "metadata": {
    "colab": {
      "provenance": []
    },
    "kernelspec": {
      "name": "python3",
      "display_name": "Python 3"
    },
    "language_info": {
      "name": "python"
    }
  },
  "cells": [
    {
      "cell_type": "markdown",
      "source": [
        "Python programlama dilinde print komutu ekrandan kullancıya bilgi veren bir koddur.\n",
        "\n",
        "Veri Yapıları ve Algoritmalar dersinin ilk kodlama çıktısıdır.\n",
        "\n",
        "Github: https://github.com/acetinkaya/veriyapilari-algoritma\n",
        "\n",
        "Öğr. Gör. Ali ÇETİNKAYA - 19.08.2024"
      ],
      "metadata": {
        "id": "6C4MzXqn8z9E"
      }
    },
    {
      "cell_type": "code",
      "execution_count": 2,
      "metadata": {
        "colab": {
          "base_uri": "https://localhost:8080/"
        },
        "id": "cNBQAPXw45VN",
        "outputId": "7f646afe-4e4b-4635-c10c-ccf4ddcf8f93"
      },
      "outputs": [
        {
          "output_type": "stream",
          "name": "stdout",
          "text": [
            "Merhaba, VERIYAPILARI PYTHON\n"
          ]
        }
      ],
      "source": [
        "print(\"Merhaba, VERIYAPILARI PYTHON\") # print ekrana çıktı veren bir koddur."
      ]
    },
    {
      "cell_type": "code",
      "source": [
        "import sys # import python programlama dilinde yazılıma kütüphane eklemeye yarayan bir kod blogudur.\n",
        "print(sys.version)"
      ],
      "metadata": {
        "colab": {
          "base_uri": "https://localhost:8080/"
        },
        "id": "IE31jisi-HNI",
        "outputId": "2f8a6729-6005-474e-d0cc-7ce0989081fc"
      },
      "execution_count": 3,
      "outputs": [
        {
          "output_type": "stream",
          "name": "stdout",
          "text": [
            "3.10.12 (main, Sep 11 2024, 15:47:36) [GCC 11.4.0]\n"
          ]
        }
      ]
    },
    {
      "cell_type": "code",
      "source": [
        "from google.colab import drive # google colab - drive bağlantısı\n",
        "drive.mount('/content/drive')"
      ],
      "metadata": {
        "colab": {
          "base_uri": "https://localhost:8080/"
        },
        "id": "UlTtqT3bAZLl",
        "outputId": "475c2992-5d15-47a3-8003-3ac23f816434"
      },
      "execution_count": 4,
      "outputs": [
        {
          "output_type": "stream",
          "name": "stdout",
          "text": [
            "Mounted at /content/drive\n"
          ]
        }
      ]
    },
    {
      "cell_type": "code",
      "source": [
        "import os\n",
        "os.chdir('/content/drive/My Drive/VERIYAPILARI_PYTHON')\n",
        "!pwd # bize kodun çıktısını dosya yolu olarak veren kod blogudur."
      ],
      "metadata": {
        "colab": {
          "base_uri": "https://localhost:8080/"
        },
        "id": "zpmDbXq7BjHJ",
        "outputId": "94e73cb4-ca89-4c91-90ab-74890a40abab"
      },
      "execution_count": 5,
      "outputs": [
        {
          "output_type": "stream",
          "name": "stdout",
          "text": [
            "/content/drive/My Drive/VERIYAPILARI_PYTHON\n"
          ]
        }
      ]
    }
  ]
}